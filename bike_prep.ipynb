{
 "cells": [
  {
   "cell_type": "code",
   "execution_count": 7,
   "metadata": {},
   "outputs": [],
   "source": [
    "import pandas as pd\n",
    "import numpy as np\n",
    "import holidays\n",
    "daily=pd.read_csv(\"day.csv\")\n",
    "hourly=pd.read_csv(\"hour.csv\")\n",
    "daily=daily.rename(columns={\"dteday\":\"date\",\"yr\":\"year\",\"atemp\":\"ftemp\",\"mnth\":\"month\",\"weathersit\":\"weather\"})\n",
    "hourly=hourly.rename(columns={\"dteday\":\"date\",\"yr\":\"year\",\"atemp\":\"ftemp\",\"mnth\":\"month\",\"hr\":\"hour\",\"weathersit\":\"weather\"})\n",
    "daily[\"date\"]=pd.to_datetime(daily[\"date\"])\n",
    "hourly[\"date\"]=pd.to_datetime(hourly[\"date\"])\n",
    "#Weather data was sourced from the Integrated Surface Database (ISD) of the National Oceanic and Atmospheric Agency (NOAA) of the US\n",
    "weather_daily=pd.read_csv(\"weather_daily.csv\")\n",
    "weather_daily[\"datetime\"]=pd.to_datetime(weather_daily[\"datetime\"])\n",
    "weather_hourly=pd.read_csv(\"weather_hourly.csv\")\n",
    "weather_hourly[\"datetime\"]=pd.to_datetime(weather_hourly[\"datetime\"])\n",
    "#No missing values\n",
    "#Add the hour timestamp in the datetime column for easier comparison\n",
    "for i in range(len(hourly)):\n",
    "    hourly.loc[i,\"date\"]=hourly.loc[i,\"date\"].replace(hour=hourly.loc[i,\"hour\"])\n",
    "#There are some hours missing in the hourly dataset. We will assign nan values for the missing hours\n",
    "rang=pd.date_range(start=hourly.loc[0,\"date\"],end=hourly.loc[17378,\"date\"],freq=\"H\")\n",
    "hourly=hourly.set_index(\"date\")\n",
    "hourly=hourly.reindex(rang,fill_value=np.nan)\n",
    "hourly=hourly.reset_index()\n",
    "hourly=hourly.rename(columns={\"index\":\"date\"})\n",
    "#We saw that the seasons column was totally scrambled, so we can not trust the other date columns to be correct\n",
    "#We will extract the specifics from the original date again\n",
    "daily[\"year\"]=pd.DatetimeIndex(daily[\"date\"]).year\n",
    "daily[\"month\"]=pd.DatetimeIndex(daily[\"date\"]).month\n",
    "daily[\"day\"]=pd.DatetimeIndex(daily[\"date\"]).day\n",
    "daily[\"weekday\"]=pd.DatetimeIndex(daily[\"date\"]).weekday\n",
    "hourly[\"year\"]=pd.DatetimeIndex(hourly[\"date\"]).year\n",
    "hourly[\"month\"]=pd.DatetimeIndex(hourly[\"date\"]).month\n",
    "hourly[\"day\"]=pd.DatetimeIndex(hourly[\"date\"]).day\n",
    "hourly[\"hour\"]=pd.DatetimeIndex(hourly[\"date\"]).hour\n",
    "hourly[\"weekday\"]=pd.DatetimeIndex(hourly[\"date\"]).weekday\n",
    "#Do some renaming and categorization for some columns\n",
    "daily[\"weekday\"]=daily[\"weekday\"].replace({0:\"Mon\",1:\"Tue\",2:\"Wed\",3:\"Thu\",4:\"Fri\",5:\"Sat\",6:\"Sun\"}).astype(\"category\")\n",
    "hourly[\"weekday\"]=hourly[\"weekday\"].replace({0:\"Mon\",1:\"Tue\",2:\"Wed\",3:\"Thu\",4:\"Fri\",5:\"Sat\",6:\"Sun\"}).astype(\"category\")\n",
    "daily=daily[[\"instant\",\"date\",\"year\",\"month\",\"day\",\"season\",\"weekday\",\"workingday\",\"holiday\",\"weather\",\"temp\",\"ftemp\",\"hum\",\"windspeed\",\"casual\",\"registered\",\"cnt\"]]\n",
    "hourly=hourly[[\"instant\",\"date\",\"year\",\"month\",\"day\",\"hour\",\"season\",\"weekday\",\"workingday\",\"holiday\",\"weather\",\"temp\",\"ftemp\",\"hum\",\"windspeed\",\"casual\",\"registered\",\"cnt\"]]"
   ]
  },
  {
   "cell_type": "code",
   "execution_count": 2,
   "metadata": {},
   "outputs": [],
   "source": [
    "#Figures from the Metropolitan Washington Airports Authority for Reagan airport\n",
    "reagan11=[1265192,1253227,1640947,1638472,1743876,1702388,1720092,1658578,1522587,1680103,1575307,1422325]\n",
    "reagan12=[1292183,1310815,1649942,1683581,1724771,1754568,1795557,1854810,1606641,1726571,1700473,1555528]"
   ]
  },
  {
   "cell_type": "code",
   "execution_count": 8,
   "metadata": {},
   "outputs": [],
   "source": [
    "#Check working days\n",
    "for i in range(len(daily)):\n",
    "    if daily.loc[i,\"weekday\"]==\"Sat\" or daily.loc[i,\"weekday\"]==\"Sun\": daily.loc[i,\"workingday\"]=0\n",
    "    else: daily.loc[i,\"workingday\"]=1\n",
    "for i in range(len(hourly)):\n",
    "    if hourly.loc[i,\"weekday\"]==\"Sat\" or hourly.loc[i,\"weekday\"]==\"Sun\": hourly.loc[i,\"workingday\"]=0\n",
    "    else: hourly.loc[i,\"workingday\"]=1\n",
    "#Assign seasons based on the normal division of the year\n",
    "for i in range(len(daily)):\n",
    "    if daily.loc[i,\"month\"]<3 or daily.loc[i,\"month\"]==12: daily.loc[i,\"season\"]=\"Winter\"\n",
    "    elif daily.loc[i,\"month\"]<6: daily.loc[i,\"season\"]=\"Spring\"\n",
    "    elif daily.loc[i,\"month\"]<9: daily.loc[i,\"season\"]=\"Summer\"\n",
    "    else: daily.loc[i,\"season\"]=\"Autumn\"\n",
    "for i in range(len(hourly)):\n",
    "    if hourly.loc[i,\"month\"]<3 or hourly.loc[i,\"month\"]==12: hourly.loc[i,\"season\"]=\"Winter\"\n",
    "    elif hourly.loc[i,\"month\"]<6: hourly.loc[i,\"season\"]=\"Spring\"\n",
    "    elif hourly.loc[i,\"month\"]<9: hourly.loc[i,\"season\"]=\"Summer\"\n",
    "    else: hourly.loc[i,\"season\"]=\"Autumn\""
   ]
  },
  {
   "cell_type": "code",
   "execution_count": 9,
   "metadata": {},
   "outputs": [],
   "source": [
    "#Adding the weather data\n",
    "daily[\"temp\"]=weather_daily[\"temp\"]\n",
    "daily[\"ftemp\"]=weather_daily[\"feelslike\"]\n",
    "daily[\"hum\"]=weather_daily[\"humidity\"]\n",
    "daily[\"windspeed\"]=weather_daily[\"windspeed\"]\n",
    "hourly[\"temp\"]=weather_hourly[\"temp\"]\n",
    "hourly[\"ftemp\"]=weather_hourly[\"feelslike\"]\n",
    "hourly[\"hum\"]=weather_hourly[\"humidity\"]\n",
    "hourly[\"windspeed\"]=weather_hourly[\"windspeed\"]\n",
    "#Daily weather\n",
    "for i in range(len(weather_daily)):\n",
    "    if weather_daily.loc[i,\"cloudcover\"]<34: daily.loc[i,\"weather\"]=\"good\"\n",
    "    elif weather_daily.loc[i,\"cloudcover\"]<67: daily.loc[i,\"weather\"]=\"cloudy\"\n",
    "    else: daily.loc[i,\"weather\"]=\"overcast\"\n",
    "for i in range(len(weather_daily)):\n",
    "    if weather_daily.loc[i,\"preciptype\"]==\"snow\" or weather_daily.loc[i,\"preciptype\"]==\"rain, snow\": daily.loc[i,\"weather\"]=\"snow\"\n",
    "    elif weather_daily.loc[i,\"preciptype\"]==\"rain\": daily.loc[i,\"weather\"]=\"rain\"\n",
    "#Hourly weather\n",
    "for i in range(len(weather_hourly)):\n",
    "    if weather_hourly.loc[i,\"cloudcover\"]<34: hourly.loc[i,\"weather\"]=\"good\"\n",
    "    elif weather_hourly.loc[i,\"cloudcover\"]<67: hourly.loc[i,\"weather\"]=\"cloudy\"\n",
    "    else: hourly.loc[i,\"weather\"]=\"overcast\"\n",
    "for i in range(len(weather_hourly)):\n",
    "    if weather_hourly.loc[i,\"preciptype\"]==\"snow\" or weather_hourly.loc[i,\"preciptype\"]==\"rain, snow\": hourly.loc[i,\"weather\"]=\"snow\"\n",
    "    elif weather_hourly.loc[i,\"preciptype\"]==\"rain\": hourly.loc[i,\"weather\"]=\"rain\"\n",
    "#Adding holiday dates    \n",
    "dc_holidays=holidays.country_holidays(\"US\",subdiv=\"DC\")\n",
    "for i in range(len(daily)):\n",
    "    if daily.loc[i,\"date\"] in dc_holidays:\n",
    "        daily.loc[i,\"holiday\"]=1\n",
    "        daily.loc[i,\"workingday\"]=0\n",
    "    else: \n",
    "        daily.loc[i,\"holiday\"]=0\n",
    "for i in range(len(hourly)):\n",
    "    if hourly.loc[i,\"date\"] in dc_holidays:\n",
    "        hourly.loc[i,\"holiday\"]=1\n",
    "        hourly.loc[i,\"workingday\"]=0\n",
    "    else:\n",
    "        hourly.loc[i,\"holiday\"]=0"
   ]
  },
  {
   "cell_type": "code",
   "execution_count": 5,
   "metadata": {},
   "outputs": [],
   "source": [
    "#Nation's triathlon 11/09/2011\n",
    "#Fancy food show 17-19/06/2011\n",
    "#WH correspondents' 28/04/2011\n",
    "#AIPAC and CPAC conferences 9-11/02 and 04-06/03\n",
    "#Black caucus 21-24/09\n",
    "#Campus pregress 26/03\n",
    "#Cherry blosson 26/03-10/04\n"
   ]
  },
  {
   "cell_type": "code",
   "execution_count": 10,
   "metadata": {},
   "outputs": [],
   "source": [
    "hourly.to_csv(\"hourly\",encoding=\"utf-8\",index=False)\n",
    "daily.to_csv(\"daily\",encoding=\"utf-8\",index=False)"
   ]
  }
 ],
 "metadata": {
  "interpreter": {
   "hash": "34ab73eb2a201c4b750598ec4bd41f14c725bb809bc0c8207569acb80dee3ff5"
  },
  "kernelspec": {
   "display_name": "Python 3.9.7 ('base')",
   "language": "python",
   "name": "python3"
  },
  "language_info": {
   "codemirror_mode": {
    "name": "ipython",
    "version": 3
   },
   "file_extension": ".py",
   "mimetype": "text/x-python",
   "name": "python",
   "nbconvert_exporter": "python",
   "pygments_lexer": "ipython3",
   "version": "3.9.7"
  },
  "orig_nbformat": 4
 },
 "nbformat": 4,
 "nbformat_minor": 2
}
