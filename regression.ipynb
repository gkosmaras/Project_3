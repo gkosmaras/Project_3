{
 "cells": [
  {
   "cell_type": "code",
   "execution_count": 128,
   "metadata": {},
   "outputs": [],
   "source": [
    "import warnings\n",
    "warnings.filterwarnings(\"ignore\")\n",
    "import pandas as pd\n",
    "import numpy as np\n",
    "import matplotlib.pyplot as plt\n",
    "import seaborn as sns\n",
    "import statsmodels.api as sm\n",
    "from sklearn.metrics import r2_score\n",
    "from sklearn.model_selection import train_test_split\n",
    "from sklearn.preprocessing import MinMaxScaler\n",
    "from sklearn.feature_selection import RFE\n",
    "from sklearn.linear_model import LinearRegression\n",
    "from statsmodels.stats.outliers_influence import variance_inflation_factor\n",
    "scaler=MinMaxScaler()\n",
    "df=pd.read_csv(\"daily\")\n",
    "temp_df=df.copy(deep=True)\n",
    "temp_df[\"season\"].replace({\"Winter\":0,\"Spring\":1,\"Summer\":2,\n",
    "                        \"Autumn\":3}, inplace=True)\n",
    "temp_df[\"weekday\"].replace({\"Sun\":0,\"Mon\":1,\"Tue\":2,\"Wed\":3,\"Thu\":4,\n",
    "                                \"Fri\":5,\"Sat\":6}, inplace=True)\n",
    "temp_df[\"weather\"].replace({\"good\":0,\"cloudy\":1,\"overcast\":2,\"rain\":3,\n",
    "                                \"snow\":4}, inplace=True)\n",
    "a=[\"instant\", \"date\", \"casual\", \"registered\", \"day\"]\n",
    "temp_df.drop(a, axis=1, inplace=True)"
   ]
  },
  {
   "cell_type": "markdown",
   "metadata": {},
   "source": [
    "Normally we would check our data for missing/junk values, duplicates etc, but since we have worked extensively with this particular dataset, we know it is good."
   ]
  },
  {
   "cell_type": "code",
   "execution_count": 129,
   "metadata": {},
   "outputs": [],
   "source": [
    "temp_df[\"season\"]=temp_df[\"season\"].astype(\"category\")\n",
    "temp_df[\"weather\"]=temp_df[\"weather\"].astype(\"category\")\n",
    "temp_df[\"month\"]=temp_df[\"month\"].astype(\"category\")\n",
    "temp_df[\"weekday\"]=temp_df[\"weekday\"].astype(\"category\")"
   ]
  },
  {
   "cell_type": "code",
   "execution_count": 130,
   "metadata": {},
   "outputs": [],
   "source": [
    "temp_df=pd.get_dummies(temp_df, drop_first=True)\n",
    "np.random.seed(0)\n",
    "dftrain, dftest= train_test_split(temp_df, train_size=0.7,\n",
    "                                    test_size=0.3, random_state=100)\n",
    "a=[\"temp\", \"ftemp\", \"hum\", \"windspeed\", \"cnt\"]\n",
    "dftrain[a]=scaler.fit_transform(dftrain[a])\n",
    "ytrain=dftrain[\"cnt\"]\n",
    "xtrain=dftrain.drop(\"cnt\", axis=1)"
   ]
  },
  {
   "cell_type": "code",
   "execution_count": 131,
   "metadata": {},
   "outputs": [],
   "source": [
    "reg=LinearRegression()\n",
    "reg.fit(xtrain, ytrain)\n",
    "rfe=RFE(reg, n_features_to_select=15)\n",
    "rfe=rfe.fit(xtrain, ytrain)\n",
    "list(zip(xtrain.columns, rfe.support_, rfe.ranking_))\n",
    "a=xtrain.columns[rfe.support_]\n",
    "xtrain_rfe=xtrain[a]"
   ]
  },
  {
   "cell_type": "code",
   "execution_count": 132,
   "metadata": {},
   "outputs": [
    {
     "data": {
      "text/html": [
       "<div>\n",
       "<style scoped>\n",
       "    .dataframe tbody tr th:only-of-type {\n",
       "        vertical-align: middle;\n",
       "    }\n",
       "\n",
       "    .dataframe tbody tr th {\n",
       "        vertical-align: top;\n",
       "    }\n",
       "\n",
       "    .dataframe thead th {\n",
       "        text-align: right;\n",
       "    }\n",
       "</style>\n",
       "<table border=\"1\" class=\"dataframe\">\n",
       "  <thead>\n",
       "    <tr style=\"text-align: right;\">\n",
       "      <th></th>\n",
       "      <th>features</th>\n",
       "      <th>vif</th>\n",
       "    </tr>\n",
       "  </thead>\n",
       "  <tbody>\n",
       "    <tr>\n",
       "      <th>7</th>\n",
       "      <td>month_6</td>\n",
       "      <td>inf</td>\n",
       "    </tr>\n",
       "    <tr>\n",
       "      <th>8</th>\n",
       "      <td>month_7</td>\n",
       "      <td>inf</td>\n",
       "    </tr>\n",
       "    <tr>\n",
       "      <th>9</th>\n",
       "      <td>month_8</td>\n",
       "      <td>inf</td>\n",
       "    </tr>\n",
       "    <tr>\n",
       "      <th>13</th>\n",
       "      <td>season_2</td>\n",
       "      <td>inf</td>\n",
       "    </tr>\n",
       "    <tr>\n",
       "      <th>2</th>\n",
       "      <td>temp</td>\n",
       "      <td>28.40</td>\n",
       "    </tr>\n",
       "    <tr>\n",
       "      <th>0</th>\n",
       "      <td>year</td>\n",
       "      <td>25.83</td>\n",
       "    </tr>\n",
       "    <tr>\n",
       "      <th>3</th>\n",
       "      <td>hum</td>\n",
       "      <td>12.88</td>\n",
       "    </tr>\n",
       "    <tr>\n",
       "      <th>14</th>\n",
       "      <td>season_3</td>\n",
       "      <td>4.97</td>\n",
       "    </tr>\n",
       "    <tr>\n",
       "      <th>12</th>\n",
       "      <td>season_1</td>\n",
       "      <td>4.94</td>\n",
       "    </tr>\n",
       "    <tr>\n",
       "      <th>4</th>\n",
       "      <td>windspeed</td>\n",
       "      <td>4.71</td>\n",
       "    </tr>\n",
       "    <tr>\n",
       "      <th>6</th>\n",
       "      <td>month_5</td>\n",
       "      <td>2.31</td>\n",
       "    </tr>\n",
       "    <tr>\n",
       "      <th>5</th>\n",
       "      <td>month_4</td>\n",
       "      <td>1.88</td>\n",
       "    </tr>\n",
       "    <tr>\n",
       "      <th>11</th>\n",
       "      <td>month_12</td>\n",
       "      <td>1.62</td>\n",
       "    </tr>\n",
       "    <tr>\n",
       "      <th>10</th>\n",
       "      <td>month_10</td>\n",
       "      <td>1.54</td>\n",
       "    </tr>\n",
       "    <tr>\n",
       "      <th>1</th>\n",
       "      <td>holiday</td>\n",
       "      <td>1.07</td>\n",
       "    </tr>\n",
       "  </tbody>\n",
       "</table>\n",
       "</div>"
      ],
      "text/plain": [
       "     features    vif\n",
       "7     month_6    inf\n",
       "8     month_7    inf\n",
       "9     month_8    inf\n",
       "13   season_2    inf\n",
       "2        temp  28.40\n",
       "0        year  25.83\n",
       "3         hum  12.88\n",
       "14   season_3   4.97\n",
       "12   season_1   4.94\n",
       "4   windspeed   4.71\n",
       "6     month_5   2.31\n",
       "5     month_4   1.88\n",
       "11   month_12   1.62\n",
       "10   month_10   1.54\n",
       "1     holiday   1.07"
      ]
     },
     "execution_count": 132,
     "metadata": {},
     "output_type": "execute_result"
    }
   ],
   "source": [
    "vif=pd.DataFrame()\n",
    "vif[\"features\"]=xtrain_rfe.columns\n",
    "vif[\"vif\"]=[variance_inflation_factor(xtrain_rfe.values, i)\n",
    "            for i in range(xtrain_rfe.shape[1])]\n",
    "vif[\"vif\"]=round(vif[\"vif\"], 2)\n",
    "vif=vif.sort_values(by=\"vif\", ascending=False)\n",
    "xtrain_lr1=sm.add_constant(xtrain_rfe)\n",
    "lr1=sm.OLS(ytrain, xtrain_lr1).fit()\n",
    "vif"
   ]
  },
  {
   "cell_type": "code",
   "execution_count": 133,
   "metadata": {},
   "outputs": [
    {
     "name": "stdout",
     "output_type": "stream",
     "text": [
      "                            OLS Regression Results                            \n",
      "==============================================================================\n",
      "Dep. Variable:                    cnt   R-squared:                       0.836\n",
      "Model:                            OLS   Adj. R-squared:                  0.831\n",
      "Method:                 Least Squares   F-statistic:                     180.5\n",
      "Date:                Tue, 12 Jul 2022   Prob (F-statistic):          2.45e-184\n",
      "Time:                        13:24:53   Log-Likelihood:                 498.74\n",
      "No. Observations:                 511   AIC:                            -967.5\n",
      "Df Residuals:                     496   BIC:                            -903.9\n",
      "Df Model:                          14                                         \n",
      "Covariance Type:            nonrobust                                         \n",
      "==============================================================================\n",
      "                 coef    std err          t      P>|t|      [0.025      0.975]\n",
      "------------------------------------------------------------------------------\n",
      "const       -466.5914     16.807    -27.762      0.000    -499.613    -433.570\n",
      "year           0.2322      0.008     27.787      0.000       0.216       0.249\n",
      "holiday       -0.0670      0.024     -2.797      0.005      -0.114      -0.020\n",
      "temp           0.5425      0.038     14.387      0.000       0.468       0.617\n",
      "hum           -0.2973      0.025    -11.846      0.000      -0.347      -0.248\n",
      "windspeed     -0.3447      0.027    -12.793      0.000      -0.398      -0.292\n",
      "month_4        0.0378      0.020      1.881      0.061      -0.002       0.077\n",
      "month_5        0.0637      0.021      2.964      0.003       0.021       0.106\n",
      "month_6        0.0437      0.013      3.313      0.001       0.018       0.070\n",
      "month_7       -0.0458      0.014     -3.169      0.002      -0.074      -0.017\n",
      "month_8        0.0361      0.013      2.880      0.004       0.011       0.061\n",
      "month_10       0.0386      0.017      2.230      0.026       0.005       0.073\n",
      "month_12       0.1069      0.018      5.937      0.000       0.071       0.142\n",
      "season_1       0.0570      0.018      3.189      0.002       0.022       0.092\n",
      "season_2       0.0341      0.019      1.791      0.074      -0.003       0.071\n",
      "season_3       0.1414      0.018      7.730      0.000       0.105       0.177\n",
      "==============================================================================\n",
      "Omnibus:                       45.219   Durbin-Watson:                   1.913\n",
      "Prob(Omnibus):                  0.000   Jarque-Bera (JB):               73.239\n",
      "Skew:                          -0.598   Prob(JB):                     1.25e-16\n",
      "Kurtosis:                       4.418   Cond. No.                     1.39e+19\n",
      "==============================================================================\n",
      "\n",
      "Notes:\n",
      "[1] Standard Errors assume that the covariance matrix of the errors is correctly specified.\n",
      "[2] The smallest eigenvalue is 1.07e-29. This might indicate that there are\n",
      "strong multicollinearity problems or that the design matrix is singular.\n"
     ]
    }
   ],
   "source": [
    "print(lr1.summary())"
   ]
  },
  {
   "cell_type": "code",
   "execution_count": 134,
   "metadata": {},
   "outputs": [
    {
     "data": {
      "image/png": "[encoded data removed]",
      "text/plain": [
       "<Figure size 432x288 with 1 Axes>"
      ]
     },
     "metadata": {
      "needs_background": "light"
     },
     "output_type": "display_data"
    },
    {
     "data": {
      "text/plain": [
       "0.7572610829230411"
      ]
     },
     "execution_count": 134,
     "metadata": {},
     "output_type": "execute_result"
    }
   ],
   "source": [
    "a=[\"temp\", \"ftemp\", \"hum\", \"windspeed\", \"cnt\"]\n",
    "temp=dftest.copy(deep=True)\n",
    "temp[a]=scaler.transform(temp[a])\n",
    "ytest=temp[\"cnt\"]\n",
    "xtest=temp.drop(\"cnt\", axis=1)\n",
    "a=xtrain_rfe.columns\n",
    "xtest=xtest[a]\n",
    "xtest_lr1=sm.add_constant(xtest)\n",
    "ypred=lr1.predict(xtest_lr1)\n",
    "plt.scatter(ytest, ypred, alpha=0.5)\n",
    "plt.title(\"Test VS Predicted\")\n",
    "plt.xlabel(\"Test values\")\n",
    "plt.xlabel(\"Predicted values\")\n",
    "plt.show()\n",
    "r2_score(ytest, ypred)"
   ]
  },
  {
   "cell_type": "code",
   "execution_count": 136,
   "metadata": {},
   "outputs": [
    {
     "data": {
      "text/html": [
       "<div>\n",
       "<style scoped>\n",
       "    .dataframe tbody tr th:only-of-type {\n",
       "        vertical-align: middle;\n",
       "    }\n",
       "\n",
       "    .dataframe tbody tr th {\n",
       "        vertical-align: top;\n",
       "    }\n",
       "\n",
       "    .dataframe thead th {\n",
       "        text-align: right;\n",
       "    }\n",
       "</style>\n",
       "<table border=\"1\" class=\"dataframe\">\n",
       "  <thead>\n",
       "    <tr style=\"text-align: right;\">\n",
       "      <th></th>\n",
       "      <th>features</th>\n",
       "      <th>vif</th>\n",
       "    </tr>\n",
       "  </thead>\n",
       "  <tbody>\n",
       "    <tr>\n",
       "      <th>2</th>\n",
       "      <td>temp</td>\n",
       "      <td>28.40</td>\n",
       "    </tr>\n",
       "    <tr>\n",
       "      <th>0</th>\n",
       "      <td>year</td>\n",
       "      <td>25.83</td>\n",
       "    </tr>\n",
       "    <tr>\n",
       "      <th>3</th>\n",
       "      <td>hum</td>\n",
       "      <td>12.88</td>\n",
       "    </tr>\n",
       "    <tr>\n",
       "      <th>13</th>\n",
       "      <td>season_3</td>\n",
       "      <td>4.97</td>\n",
       "    </tr>\n",
       "    <tr>\n",
       "      <th>12</th>\n",
       "      <td>season_1</td>\n",
       "      <td>4.94</td>\n",
       "    </tr>\n",
       "    <tr>\n",
       "      <th>4</th>\n",
       "      <td>windspeed</td>\n",
       "      <td>4.71</td>\n",
       "    </tr>\n",
       "    <tr>\n",
       "      <th>9</th>\n",
       "      <td>month_8</td>\n",
       "      <td>4.13</td>\n",
       "    </tr>\n",
       "    <tr>\n",
       "      <th>8</th>\n",
       "      <td>month_7</td>\n",
       "      <td>4.10</td>\n",
       "    </tr>\n",
       "    <tr>\n",
       "      <th>7</th>\n",
       "      <td>month_6</td>\n",
       "      <td>3.25</td>\n",
       "    </tr>\n",
       "    <tr>\n",
       "      <th>6</th>\n",
       "      <td>month_5</td>\n",
       "      <td>2.31</td>\n",
       "    </tr>\n",
       "    <tr>\n",
       "      <th>5</th>\n",
       "      <td>month_4</td>\n",
       "      <td>1.88</td>\n",
       "    </tr>\n",
       "    <tr>\n",
       "      <th>11</th>\n",
       "      <td>month_12</td>\n",
       "      <td>1.62</td>\n",
       "    </tr>\n",
       "    <tr>\n",
       "      <th>10</th>\n",
       "      <td>month_10</td>\n",
       "      <td>1.54</td>\n",
       "    </tr>\n",
       "    <tr>\n",
       "      <th>1</th>\n",
       "      <td>holiday</td>\n",
       "      <td>1.07</td>\n",
       "    </tr>\n",
       "  </tbody>\n",
       "</table>\n",
       "</div>"
      ],
      "text/plain": [
       "     features    vif\n",
       "2        temp  28.40\n",
       "0        year  25.83\n",
       "3         hum  12.88\n",
       "13   season_3   4.97\n",
       "12   season_1   4.94\n",
       "4   windspeed   4.71\n",
       "9     month_8   4.13\n",
       "8     month_7   4.10\n",
       "7     month_6   3.25\n",
       "6     month_5   2.31\n",
       "5     month_4   1.88\n",
       "11   month_12   1.62\n",
       "10   month_10   1.54\n",
       "1     holiday   1.07"
      ]
     },
     "execution_count": 136,
     "metadata": {},
     "output_type": "execute_result"
    }
   ],
   "source": [
    "xtrain_new=xtrain_rfe.drop([\"season_2\"], axis=1)\n",
    "vif=pd.DataFrame()\n",
    "vif[\"features\"]=xtrain_new.columns\n",
    "vif[\"vif\"]=[variance_inflation_factor(xtrain_new.values, i)\n",
    "            for i in range(xtrain_new.shape[1])]\n",
    "vif[\"vif\"]=round(vif[\"vif\"], 2)\n",
    "vif=vif.sort_values(by=\"vif\", ascending=False)\n",
    "xtrain_lr2=sm.add_constant(xtrain_new)\n",
    "lr2=sm.OLS(ytrain, xtrain_lr2).fit()\n",
    "vif"
   ]
  },
  {
   "cell_type": "code",
   "execution_count": 137,
   "metadata": {},
   "outputs": [
    {
     "name": "stdout",
     "output_type": "stream",
     "text": [
      "                            OLS Regression Results                            \n",
      "==============================================================================\n",
      "Dep. Variable:                    cnt   R-squared:                       0.836\n",
      "Model:                            OLS   Adj. R-squared:                  0.831\n",
      "Method:                 Least Squares   F-statistic:                     180.5\n",
      "Date:                Tue, 12 Jul 2022   Prob (F-statistic):          2.45e-184\n",
      "Time:                        13:24:54   Log-Likelihood:                 498.74\n",
      "No. Observations:                 511   AIC:                            -967.5\n",
      "Df Residuals:                     496   BIC:                            -903.9\n",
      "Df Model:                          14                                         \n",
      "Covariance Type:            nonrobust                                         \n",
      "==============================================================================\n",
      "                 coef    std err          t      P>|t|      [0.025      0.975]\n",
      "------------------------------------------------------------------------------\n",
      "const       -466.5914     16.807    -27.762      0.000    -499.613    -433.570\n",
      "year           0.2322      0.008     27.787      0.000       0.216       0.249\n",
      "holiday       -0.0670      0.024     -2.797      0.005      -0.114      -0.020\n",
      "temp           0.5425      0.038     14.387      0.000       0.468       0.617\n",
      "hum           -0.2973      0.025    -11.846      0.000      -0.347      -0.248\n",
      "windspeed     -0.3447      0.027    -12.793      0.000      -0.398      -0.292\n",
      "month_4        0.0378      0.020      1.881      0.061      -0.002       0.077\n",
      "month_5        0.0637      0.021      2.964      0.003       0.021       0.106\n",
      "month_6        0.0778      0.027      2.860      0.004       0.024       0.131\n",
      "month_7       -0.0117      0.030     -0.394      0.694      -0.070       0.047\n",
      "month_8        0.0702      0.027      2.606      0.009       0.017       0.123\n",
      "month_10       0.0386      0.017      2.230      0.026       0.005       0.073\n",
      "month_12       0.1069      0.018      5.937      0.000       0.071       0.142\n",
      "season_1       0.0570      0.018      3.189      0.002       0.022       0.092\n",
      "season_3       0.1414      0.018      7.730      0.000       0.105       0.177\n",
      "==============================================================================\n",
      "Omnibus:                       45.219   Durbin-Watson:                   1.913\n",
      "Prob(Omnibus):                  0.000   Jarque-Bera (JB):               73.239\n",
      "Skew:                          -0.598   Prob(JB):                     1.25e-16\n",
      "Kurtosis:                       4.418   Cond. No.                     8.26e+06\n",
      "==============================================================================\n",
      "\n",
      "Notes:\n",
      "[1] Standard Errors assume that the covariance matrix of the errors is correctly specified.\n",
      "[2] The condition number is large, 8.26e+06. This might indicate that there are\n",
      "strong multicollinearity or other numerical problems.\n"
     ]
    }
   ],
   "source": [
    "print(lr2.summary())"
   ]
  },
  {
   "cell_type": "code",
   "execution_count": 138,
   "metadata": {},
   "outputs": [
    {
     "data": {
      "image/png": "[encoded data removed]",
      "text/plain": [
       "<Figure size 432x288 with 1 Axes>"
      ]
     },
     "metadata": {
      "needs_background": "light"
     },
     "output_type": "display_data"
    },
    {
     "data": {
      "text/plain": [
       "0.7572610829230729"
      ]
     },
     "execution_count": 138,
     "metadata": {},
     "output_type": "execute_result"
    }
   ],
   "source": [
    "a=[\"temp\", \"ftemp\", \"hum\", \"windspeed\", \"cnt\"]\n",
    "temp=dftest.copy(deep=True)\n",
    "temp[a]=scaler.transform(temp[a])\n",
    "ytest=temp.pop(\"cnt\")\n",
    "xtest=temp\n",
    "a=xtrain_new.columns\n",
    "xtest=xtest[a]\n",
    "xtest_lr2=sm.add_constant(xtest)\n",
    "ypred=lr2.predict(xtest_lr2)\n",
    "fig=plt.figure()\n",
    "a=plt.scatter(ytest, ypred, alpha=0.5)\n",
    "plt.title(\"Test VS Predicted\")\n",
    "plt.xlabel(\"Test values\")\n",
    "plt.xlabel(\"Predicted values\")\n",
    "plt.show()\n",
    "r2_score(ytest, ypred)"
   ]
  },
  {
   "cell_type": "code",
   "execution_count": 139,
   "metadata": {},
   "outputs": [
    {
     "data": {
      "text/plain": [
       "<AxesSubplot:ylabel='Density'>"
      ]
     },
     "execution_count": 139,
     "metadata": {},
     "output_type": "execute_result"
    },
    {
     "data": {
      "image/png": "[encoded data removed]",
      "text/plain": [
       "<Figure size 432x288 with 1 Axes>"
      ]
     },
     "metadata": {
      "needs_background": "light"
     },
     "output_type": "display_data"
    }
   ],
   "source": [
    "# Error term distribution in our best performing models is normal, which\n",
    "# means that a linear regression is appropriate\n",
    "ytrain_pred=lr2.predict(xtrain_lr2)\n",
    "res=ytrain-ytrain_pred\n",
    "fig=plt.figure()\n",
    "sns.distplot(res, bins=20)"
   ]
  },
  {
   "cell_type": "code",
   "execution_count": 140,
   "metadata": {},
   "outputs": [
    {
     "data": {
      "text/html": [
       "<div>\n",
       "<style scoped>\n",
       "    .dataframe tbody tr th:only-of-type {\n",
       "        vertical-align: middle;\n",
       "    }\n",
       "\n",
       "    .dataframe tbody tr th {\n",
       "        vertical-align: top;\n",
       "    }\n",
       "\n",
       "    .dataframe thead th {\n",
       "        text-align: right;\n",
       "    }\n",
       "</style>\n",
       "<table border=\"1\" class=\"dataframe\">\n",
       "  <thead>\n",
       "    <tr style=\"text-align: right;\">\n",
       "      <th></th>\n",
       "      <th>features</th>\n",
       "      <th>vif</th>\n",
       "    </tr>\n",
       "  </thead>\n",
       "  <tbody>\n",
       "    <tr>\n",
       "      <th>2</th>\n",
       "      <td>temp</td>\n",
       "      <td>28.39</td>\n",
       "    </tr>\n",
       "    <tr>\n",
       "      <th>0</th>\n",
       "      <td>year</td>\n",
       "      <td>18.35</td>\n",
       "    </tr>\n",
       "    <tr>\n",
       "      <th>3</th>\n",
       "      <td>hum</td>\n",
       "      <td>12.60</td>\n",
       "    </tr>\n",
       "    <tr>\n",
       "      <th>11</th>\n",
       "      <td>season_1</td>\n",
       "      <td>4.94</td>\n",
       "    </tr>\n",
       "    <tr>\n",
       "      <th>12</th>\n",
       "      <td>season_3</td>\n",
       "      <td>4.85</td>\n",
       "    </tr>\n",
       "    <tr>\n",
       "      <th>8</th>\n",
       "      <td>month_8</td>\n",
       "      <td>4.09</td>\n",
       "    </tr>\n",
       "    <tr>\n",
       "      <th>7</th>\n",
       "      <td>month_7</td>\n",
       "      <td>4.04</td>\n",
       "    </tr>\n",
       "    <tr>\n",
       "      <th>6</th>\n",
       "      <td>month_6</td>\n",
       "      <td>3.23</td>\n",
       "    </tr>\n",
       "    <tr>\n",
       "      <th>5</th>\n",
       "      <td>month_5</td>\n",
       "      <td>2.30</td>\n",
       "    </tr>\n",
       "    <tr>\n",
       "      <th>4</th>\n",
       "      <td>month_4</td>\n",
       "      <td>1.88</td>\n",
       "    </tr>\n",
       "    <tr>\n",
       "      <th>10</th>\n",
       "      <td>month_12</td>\n",
       "      <td>1.61</td>\n",
       "    </tr>\n",
       "    <tr>\n",
       "      <th>9</th>\n",
       "      <td>month_10</td>\n",
       "      <td>1.54</td>\n",
       "    </tr>\n",
       "    <tr>\n",
       "      <th>1</th>\n",
       "      <td>holiday</td>\n",
       "      <td>1.07</td>\n",
       "    </tr>\n",
       "  </tbody>\n",
       "</table>\n",
       "</div>"
      ],
      "text/plain": [
       "    features    vif\n",
       "2       temp  28.39\n",
       "0       year  18.35\n",
       "3        hum  12.60\n",
       "11  season_1   4.94\n",
       "12  season_3   4.85\n",
       "8    month_8   4.09\n",
       "7    month_7   4.04\n",
       "6    month_6   3.23\n",
       "5    month_5   2.30\n",
       "4    month_4   1.88\n",
       "10  month_12   1.61\n",
       "9   month_10   1.54\n",
       "1    holiday   1.07"
      ]
     },
     "execution_count": 140,
     "metadata": {},
     "output_type": "execute_result"
    }
   ],
   "source": [
    "xtrain_new=xtrain_rfe.drop([\"season_2\", \"windspeed\"], axis=1)\n",
    "vif=pd.DataFrame()\n",
    "vif[\"features\"]=xtrain_new.columns\n",
    "vif[\"vif\"]=[variance_inflation_factor(xtrain_new.values, i)\n",
    "            for i in range(xtrain_new.shape[1])]\n",
    "vif[\"vif\"]=round(vif[\"vif\"], 2)\n",
    "vif=vif.sort_values(by=\"vif\", ascending=False)\n",
    "xtrain_lr3=sm.add_constant(xtrain_new)\n",
    "lr3=sm.OLS(ytrain, xtrain_lr3).fit()\n",
    "vif"
   ]
  },
  {
   "cell_type": "code",
   "execution_count": 141,
   "metadata": {},
   "outputs": [
    {
     "name": "stdout",
     "output_type": "stream",
     "text": [
      "                            OLS Regression Results                            \n",
      "==============================================================================\n",
      "Dep. Variable:                    cnt   R-squared:                       0.782\n",
      "Model:                            OLS   Adj. R-squared:                  0.776\n",
      "Method:                 Least Squares   F-statistic:                     137.0\n",
      "Date:                Tue, 12 Jul 2022   Prob (F-statistic):          7.07e-155\n",
      "Time:                        13:24:55   Log-Likelihood:                 425.89\n",
      "No. Observations:                 511   AIC:                            -823.8\n",
      "Df Residuals:                     497   BIC:                            -764.5\n",
      "Df Model:                          13                                         \n",
      "Covariance Type:            nonrobust                                         \n",
      "==============================================================================\n",
      "                 coef    std err          t      P>|t|      [0.025      0.975]\n",
      "------------------------------------------------------------------------------\n",
      "const       -474.5675     19.349    -24.526      0.000    -512.584    -436.551\n",
      "year           0.2361      0.010     24.540      0.000       0.217       0.255\n",
      "holiday       -0.0722      0.028     -2.617      0.009      -0.126      -0.018\n",
      "temp           0.5301      0.043     12.207      0.000       0.445       0.615\n",
      "hum           -0.2484      0.029     -8.695      0.000      -0.305      -0.192\n",
      "month_4        0.0303      0.023      1.310      0.191      -0.015       0.076\n",
      "month_5        0.0832      0.025      3.373      0.001       0.035       0.132\n",
      "month_6        0.1090      0.031      3.492      0.001       0.048       0.170\n",
      "month_7        0.0321      0.034      0.944      0.346      -0.035       0.099\n",
      "month_8        0.1052      0.031      3.405      0.001       0.044       0.166\n",
      "month_10       0.0300      0.020      1.504      0.133      -0.009       0.069\n",
      "month_12       0.1310      0.021      6.353      0.000       0.090       0.172\n",
      "season_1       0.0668      0.021      3.250      0.001       0.026       0.107\n",
      "season_3       0.1784      0.021      8.572      0.000       0.137       0.219\n",
      "==============================================================================\n",
      "Omnibus:                      114.337   Durbin-Watson:                   1.951\n",
      "Prob(Omnibus):                  0.000   Jarque-Bera (JB):              309.420\n",
      "Skew:                          -1.091   Prob(JB):                     6.46e-68\n",
      "Kurtosis:                       6.126   Cond. No.                     8.25e+06\n",
      "==============================================================================\n",
      "\n",
      "Notes:\n",
      "[1] Standard Errors assume that the covariance matrix of the errors is correctly specified.\n",
      "[2] The condition number is large, 8.25e+06. This might indicate that there are\n",
      "strong multicollinearity or other numerical problems.\n"
     ]
    }
   ],
   "source": [
    "print(lr3.summary())"
   ]
  },
  {
   "cell_type": "code",
   "execution_count": 142,
   "metadata": {},
   "outputs": [
    {
     "data": {
      "image/png": "[encoded data removed]",
      "text/plain": [
       "<Figure size 432x288 with 1 Axes>"
      ]
     },
     "metadata": {
      "needs_background": "light"
     },
     "output_type": "display_data"
    },
    {
     "data": {
      "text/plain": [
       "0.764935138506476"
      ]
     },
     "execution_count": 142,
     "metadata": {},
     "output_type": "execute_result"
    }
   ],
   "source": [
    "a=[\"temp\", \"ftemp\", \"hum\", \"windspeed\", \"cnt\"]\n",
    "temp=dftest.copy(deep=True)\n",
    "temp[a]=scaler.transform(temp[a])\n",
    "ytest=temp.pop(\"cnt\")\n",
    "xtest=temp\n",
    "a=xtrain_new.columns\n",
    "xtest=xtest[a]\n",
    "xtest_lr3=sm.add_constant(xtest)\n",
    "ypred=lr3.predict(xtest_lr3)\n",
    "fig=plt.figure()\n",
    "plt.scatter(ytest, ypred, alpha=0.5)\n",
    "plt.title(\"Test VS Predicted\")\n",
    "plt.xlabel(\"Test values\")\n",
    "plt.xlabel(\"Predicted values\")\n",
    "plt.show()\n",
    "r2_score(ytest, ypred)"
   ]
  },
  {
   "cell_type": "code",
   "execution_count": 146,
   "metadata": {},
   "outputs": [
    {
     "data": {
      "text/html": [
       "<div>\n",
       "<style scoped>\n",
       "    .dataframe tbody tr th:only-of-type {\n",
       "        vertical-align: middle;\n",
       "    }\n",
       "\n",
       "    .dataframe tbody tr th {\n",
       "        vertical-align: top;\n",
       "    }\n",
       "\n",
       "    .dataframe thead th {\n",
       "        text-align: right;\n",
       "    }\n",
       "</style>\n",
       "<table border=\"1\" class=\"dataframe\">\n",
       "  <thead>\n",
       "    <tr style=\"text-align: right;\">\n",
       "      <th></th>\n",
       "      <th>features</th>\n",
       "      <th>vif</th>\n",
       "    </tr>\n",
       "  </thead>\n",
       "  <tbody>\n",
       "    <tr>\n",
       "      <th>0</th>\n",
       "      <td>year</td>\n",
       "      <td>18.16</td>\n",
       "    </tr>\n",
       "    <tr>\n",
       "      <th>3</th>\n",
       "      <td>hum</td>\n",
       "      <td>12.36</td>\n",
       "    </tr>\n",
       "    <tr>\n",
       "      <th>2</th>\n",
       "      <td>temp</td>\n",
       "      <td>10.64</td>\n",
       "    </tr>\n",
       "    <tr>\n",
       "      <th>10</th>\n",
       "      <td>season_1</td>\n",
       "      <td>3.81</td>\n",
       "    </tr>\n",
       "    <tr>\n",
       "      <th>11</th>\n",
       "      <td>season_3</td>\n",
       "      <td>2.71</td>\n",
       "    </tr>\n",
       "    <tr>\n",
       "      <th>5</th>\n",
       "      <td>month_5</td>\n",
       "      <td>2.04</td>\n",
       "    </tr>\n",
       "    <tr>\n",
       "      <th>4</th>\n",
       "      <td>month_4</td>\n",
       "      <td>1.84</td>\n",
       "    </tr>\n",
       "    <tr>\n",
       "      <th>7</th>\n",
       "      <td>month_8</td>\n",
       "      <td>1.78</td>\n",
       "    </tr>\n",
       "    <tr>\n",
       "      <th>6</th>\n",
       "      <td>month_6</td>\n",
       "      <td>1.56</td>\n",
       "    </tr>\n",
       "    <tr>\n",
       "      <th>8</th>\n",
       "      <td>month_10</td>\n",
       "      <td>1.54</td>\n",
       "    </tr>\n",
       "    <tr>\n",
       "      <th>9</th>\n",
       "      <td>month_12</td>\n",
       "      <td>1.42</td>\n",
       "    </tr>\n",
       "    <tr>\n",
       "      <th>1</th>\n",
       "      <td>holiday</td>\n",
       "      <td>1.06</td>\n",
       "    </tr>\n",
       "  </tbody>\n",
       "</table>\n",
       "</div>"
      ],
      "text/plain": [
       "    features    vif\n",
       "0       year  18.16\n",
       "3        hum  12.36\n",
       "2       temp  10.64\n",
       "10  season_1   3.81\n",
       "11  season_3   2.71\n",
       "5    month_5   2.04\n",
       "4    month_4   1.84\n",
       "7    month_8   1.78\n",
       "6    month_6   1.56\n",
       "8   month_10   1.54\n",
       "9   month_12   1.42\n",
       "1    holiday   1.06"
      ]
     },
     "execution_count": 146,
     "metadata": {},
     "output_type": "execute_result"
    }
   ],
   "source": [
    "xtrain_new=xtrain_rfe.drop([\"season_2\", \"windspeed\", \"month_7\"], axis=1)\n",
    "vif=pd.DataFrame()\n",
    "vif[\"features\"]=xtrain_new.columns\n",
    "vif[\"vif\"]=[variance_inflation_factor(xtrain_new.values, i)\n",
    "            for i in range(xtrain_new.shape[1])]\n",
    "vif[\"vif\"]=round(vif[\"vif\"], 2)\n",
    "vif=vif.sort_values(by=\"vif\", ascending=False)\n",
    "xtrain_lr4=sm.add_constant(xtrain_new)\n",
    "lr4=sm.OLS(ytrain, xtrain_lr4).fit()\n",
    "vif"
   ]
  },
  {
   "cell_type": "code",
   "execution_count": 144,
   "metadata": {},
   "outputs": [
    {
     "name": "stdout",
     "output_type": "stream",
     "text": [
      "                            OLS Regression Results                            \n",
      "==============================================================================\n",
      "Dep. Variable:                    cnt   R-squared:                       0.749\n",
      "Model:                            OLS   Adj. R-squared:                  0.743\n",
      "Method:                 Least Squares   F-statistic:                     123.6\n",
      "Date:                Tue, 12 Jul 2022   Prob (F-statistic):          9.37e-141\n",
      "Time:                        13:24:56   Log-Likelihood:                 389.71\n",
      "No. Observations:                 511   AIC:                            -753.4\n",
      "Df Residuals:                     498   BIC:                            -698.4\n",
      "Df Model:                          12                                         \n",
      "Covariance Type:            nonrobust                                         \n",
      "==============================================================================\n",
      "                 coef    std err          t      P>|t|      [0.025      0.975]\n",
      "------------------------------------------------------------------------------\n",
      "const       -495.5580     20.586    -24.073      0.000    -536.004    -455.112\n",
      "year           0.2464      0.010     24.079      0.000       0.226       0.267\n",
      "holiday       -0.0690      0.030     -2.331      0.020      -0.127      -0.011\n",
      "temp           0.4546      0.046      9.964      0.000       0.365       0.544\n",
      "month_4        0.0493      0.025      1.999      0.046       0.001       0.098\n",
      "month_5        0.0751      0.026      2.839      0.005       0.023       0.127\n",
      "month_6        0.1506      0.033      4.552      0.000       0.086       0.216\n",
      "month_7        0.0754      0.036      2.087      0.037       0.004       0.146\n",
      "month_8        0.1250      0.033      3.786      0.000       0.060       0.190\n",
      "month_10       0.0179      0.021      0.839      0.402      -0.024       0.060\n",
      "month_12       0.1169      0.022      5.305      0.000       0.074       0.160\n",
      "season_1       0.0750      0.022      3.406      0.001       0.032       0.118\n",
      "season_3       0.1761      0.022      7.893      0.000       0.132       0.220\n",
      "==============================================================================\n",
      "Omnibus:                      137.748   Durbin-Watson:                   1.953\n",
      "Prob(Omnibus):                  0.000   Jarque-Bera (JB):              412.279\n",
      "Skew:                          -1.274   Prob(JB):                     2.98e-90\n",
      "Kurtosis:                       6.588   Cond. No.                     8.19e+06\n",
      "==============================================================================\n",
      "\n",
      "Notes:\n",
      "[1] Standard Errors assume that the covariance matrix of the errors is correctly specified.\n",
      "[2] The condition number is large, 8.19e+06. This might indicate that there are\n",
      "strong multicollinearity or other numerical problems.\n"
     ]
    }
   ],
   "source": [
    "print(lr4.summary())"
   ]
  },
  {
   "cell_type": "code",
   "execution_count": 147,
   "metadata": {},
   "outputs": [
    {
     "data": {
      "image/png": "[encoded data removed]",
      "text/plain": [
       "<Figure size 432x288 with 1 Axes>"
      ]
     },
     "metadata": {
      "needs_background": "light"
     },
     "output_type": "display_data"
    },
    {
     "data": {
      "text/plain": [
       "0.7642269354417763"
      ]
     },
     "execution_count": 147,
     "metadata": {},
     "output_type": "execute_result"
    }
   ],
   "source": [
    "a=[\"temp\", \"ftemp\", \"hum\", \"windspeed\", \"cnt\"]\n",
    "temp=dftest.copy(deep=True)\n",
    "temp[a]=scaler.transform(temp[a])\n",
    "ytest=temp.pop(\"cnt\")\n",
    "xtest=temp\n",
    "a=xtrain_new.columns\n",
    "xtest=xtest[a]\n",
    "xtest_lr4=sm.add_constant(xtest)\n",
    "ypred=lr4.predict(xtest_lr4)\n",
    "fig=plt.figure()\n",
    "plt.scatter(ytest, ypred, alpha=0.5)\n",
    "plt.title(\"Test VS Predicted\")\n",
    "plt.xlabel(\"Test values\")\n",
    "plt.xlabel(\"Predicted values\")\n",
    "plt.show()\n",
    "r2_score(ytest, ypred)"
   ]
  },
  {
   "cell_type": "code",
   "execution_count": null,
   "metadata": {},
   "outputs": [],
   "source": [
    "# Error term distribution in our best performing models is normal, which\n",
    "# means that a linear regression is appropriate\n",
    "ytrain_pred=lr1.predict(xtrain_lr1)\n",
    "res=ytrain-ytrain_pred\n",
    "fig=plt.figure()\n",
    "sns.distplot(res, bins=20)"
   ]
  }
 ],
 "metadata": {
  "kernelspec": {
   "display_name": "Python 3.9.7 ('base')",
   "language": "python",
   "name": "python3"
  },
  "language_info": {
   "codemirror_mode": {
    "name": "ipython",
    "version": 3
   },
   "file_extension": ".py",
   "mimetype": "text/x-python",
   "name": "python",
   "nbconvert_exporter": "python",
   "pygments_lexer": "ipython3",
   "version": "3.9.7"
  },
  "orig_nbformat": 4,
  "vscode": {
   "interpreter": {
    "hash": "34ab73eb2a201c4b750598ec4bd41f14c725bb809bc0c8207569acb80dee3ff5"
   }
  }
 },
 "nbformat": 4,
 "nbformat_minor": 2
}
