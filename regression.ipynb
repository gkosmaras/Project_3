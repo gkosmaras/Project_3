{
 "cells": [
  {
   "cell_type": "code",
   "execution_count": 303,
   "metadata": {},
   "outputs": [],
   "source": [
    "import warnings\n",
    "warnings.filterwarnings(\"ignore\")\n",
    "import pandas as pd\n",
    "import numpy as np\n",
    "import matplotlib.pyplot as plt\n",
    "import seaborn as sns\n",
    "import statsmodels.api as sm\n",
    "from sklearn.metrics import r2_score\n",
    "from sklearn.model_selection import train_test_split\n",
    "from sklearn.preprocessing import MinMaxScaler\n",
    "from sklearn.feature_selection import RFE\n",
    "from sklearn.linear_model import LinearRegression\n",
    "from statsmodels.stats.outliers_influence import variance_inflation_factor\n",
    "scaler=MinMaxScaler()\n",
    "df=pd.read_csv(\"daily\")\n",
    "temp_df=df.copy(deep=True)\n",
    "temp_df[\"season\"].replace({\"Winter\":0,\"Spring\":1,\"Summer\":2,\n",
    "                        \"Autumn\":3}, inplace=True)\n",
    "temp_df[\"weekday\"].replace({\"Sun\":0,\"Mon\":1,\"Tue\":2,\"Wed\":3,\"Thu\":4,\n",
    "                                \"Fri\":5,\"Sat\":6}, inplace=True)\n",
    "temp_df[\"weather\"].replace({\"good\":0,\"cloudy\":1,\"overcast\":2,\"rain\":3,\n",
    "                                \"snow\":4}, inplace=True)\n",
    "a=[\"instant\", \"date\", \"casual\", \"registered\", \"day\"]\n",
    "temp_df.drop(a, axis=1, inplace=True)\n",
    "scores=[]"
   ]
  },
  {
   "cell_type": "markdown",
   "metadata": {},
   "source": [
    "Normally we would check our data for missing/junk values, duplicates etc, but since we have worked extensively with this particular dataset, we know it is good."
   ]
  },
  {
   "cell_type": "code",
   "execution_count": 304,
   "metadata": {},
   "outputs": [],
   "source": [
    "temp_df[\"season\"]=temp_df[\"season\"].astype(\"category\")\n",
    "temp_df[\"weather\"]=temp_df[\"weather\"].astype(\"category\")\n",
    "temp_df[\"month\"]=temp_df[\"month\"].astype(\"category\")\n",
    "temp_df[\"weekday\"]=temp_df[\"weekday\"].astype(\"category\")\n",
    "temp_df[\"year\"]=temp_df[\"year\"].astype(\"category\")"
   ]
  },
  {
   "cell_type": "code",
   "execution_count": 305,
   "metadata": {},
   "outputs": [],
   "source": [
    "temp_df=pd.get_dummies(temp_df, drop_first=True)\n",
    "np.random.seed(0)\n",
    "dftrain, dftest= train_test_split(temp_df, train_size=0.7,\n",
    "                                    test_size=0.3, random_state=100)\n",
    "a=[\"temp\", \"ftemp\", \"hum\", \"windspeed\", \"cnt\"]\n",
    "dftrain[a]=scaler.fit_transform(dftrain[a])\n",
    "ytrain=dftrain[\"cnt\"]\n",
    "xtrain=dftrain.drop(\"cnt\", axis=1)"
   ]
  },
  {
   "cell_type": "code",
   "execution_count": 306,
   "metadata": {},
   "outputs": [],
   "source": [
    "reg=LinearRegression()\n",
    "reg.fit(xtrain, ytrain)\n",
    "rfe=RFE(reg, n_features_to_select=15)\n",
    "rfe=rfe.fit(xtrain, ytrain)\n",
    "list(zip(xtrain.columns, rfe.support_, rfe.ranking_))\n",
    "a=xtrain.columns[rfe.support_]\n",
    "xtrain_rfe=xtrain[a]"
   ]
  },
  {
   "cell_type": "code",
   "execution_count": 307,
   "metadata": {},
   "outputs": [
    {
     "data": {
      "text/html": [
       "<div>\n",
       "<style scoped>\n",
       "    .dataframe tbody tr th:only-of-type {\n",
       "        vertical-align: middle;\n",
       "    }\n",
       "\n",
       "    .dataframe tbody tr th {\n",
       "        vertical-align: top;\n",
       "    }\n",
       "\n",
       "    .dataframe thead th {\n",
       "        text-align: right;\n",
       "    }\n",
       "</style>\n",
       "<table border=\"1\" class=\"dataframe\">\n",
       "  <thead>\n",
       "    <tr style=\"text-align: right;\">\n",
       "      <th></th>\n",
       "      <th>features</th>\n",
       "      <th>vif</th>\n",
       "    </tr>\n",
       "  </thead>\n",
       "  <tbody>\n",
       "    <tr>\n",
       "      <th>6</th>\n",
       "      <td>month_6</td>\n",
       "      <td>inf</td>\n",
       "    </tr>\n",
       "    <tr>\n",
       "      <th>7</th>\n",
       "      <td>month_7</td>\n",
       "      <td>inf</td>\n",
       "    </tr>\n",
       "    <tr>\n",
       "      <th>8</th>\n",
       "      <td>month_8</td>\n",
       "      <td>inf</td>\n",
       "    </tr>\n",
       "    <tr>\n",
       "      <th>13</th>\n",
       "      <td>season_2</td>\n",
       "      <td>inf</td>\n",
       "    </tr>\n",
       "    <tr>\n",
       "      <th>0</th>\n",
       "      <td>temp</td>\n",
       "      <td>1768.33</td>\n",
       "    </tr>\n",
       "    <tr>\n",
       "      <th>1</th>\n",
       "      <td>ftemp</td>\n",
       "      <td>1650.92</td>\n",
       "    </tr>\n",
       "    <tr>\n",
       "      <th>2</th>\n",
       "      <td>hum</td>\n",
       "      <td>8.85</td>\n",
       "    </tr>\n",
       "    <tr>\n",
       "      <th>14</th>\n",
       "      <td>season_3</td>\n",
       "      <td>5.11</td>\n",
       "    </tr>\n",
       "    <tr>\n",
       "      <th>12</th>\n",
       "      <td>season_1</td>\n",
       "      <td>4.33</td>\n",
       "    </tr>\n",
       "    <tr>\n",
       "      <th>3</th>\n",
       "      <td>windspeed</td>\n",
       "      <td>4.18</td>\n",
       "    </tr>\n",
       "    <tr>\n",
       "      <th>9</th>\n",
       "      <td>month_9</td>\n",
       "      <td>2.81</td>\n",
       "    </tr>\n",
       "    <tr>\n",
       "      <th>10</th>\n",
       "      <td>month_10</td>\n",
       "      <td>2.13</td>\n",
       "    </tr>\n",
       "    <tr>\n",
       "      <th>4</th>\n",
       "      <td>year_2012</td>\n",
       "      <td>2.04</td>\n",
       "    </tr>\n",
       "    <tr>\n",
       "      <th>5</th>\n",
       "      <td>month_5</td>\n",
       "      <td>1.95</td>\n",
       "    </tr>\n",
       "    <tr>\n",
       "      <th>11</th>\n",
       "      <td>month_12</td>\n",
       "      <td>1.60</td>\n",
       "    </tr>\n",
       "  </tbody>\n",
       "</table>\n",
       "</div>"
      ],
      "text/plain": [
       "     features      vif\n",
       "6     month_6      inf\n",
       "7     month_7      inf\n",
       "8     month_8      inf\n",
       "13   season_2      inf\n",
       "0        temp  1768.33\n",
       "1       ftemp  1650.92\n",
       "2         hum     8.85\n",
       "14   season_3     5.11\n",
       "12   season_1     4.33\n",
       "3   windspeed     4.18\n",
       "9     month_9     2.81\n",
       "10   month_10     2.13\n",
       "4   year_2012     2.04\n",
       "5     month_5     1.95\n",
       "11   month_12     1.60"
      ]
     },
     "execution_count": 307,
     "metadata": {},
     "output_type": "execute_result"
    }
   ],
   "source": [
    "vif=pd.DataFrame()\n",
    "vif[\"features\"]=xtrain_rfe.columns\n",
    "vif[\"vif\"]=[variance_inflation_factor(xtrain_rfe.values, i)\n",
    "            for i in range(xtrain_rfe.shape[1])]\n",
    "vif[\"vif\"]=round(vif[\"vif\"], 2)\n",
    "vif=vif.sort_values(by=\"vif\", ascending=False)\n",
    "xtrain_lr1=sm.add_constant(xtrain_rfe)\n",
    "lr1=sm.OLS(ytrain, xtrain_lr1).fit()\n",
    "vif"
   ]
  },
  {
   "cell_type": "code",
   "execution_count": 308,
   "metadata": {},
   "outputs": [
    {
     "name": "stdout",
     "output_type": "stream",
     "text": [
      "                            OLS Regression Results                            \n",
      "==============================================================================\n",
      "Dep. Variable:                    cnt   R-squared:                       0.832\n",
      "Model:                            OLS   Adj. R-squared:                  0.828\n",
      "Method:                 Least Squares   F-statistic:                     176.0\n",
      "Date:                Tue, 12 Jul 2022   Prob (F-statistic):          4.89e-182\n",
      "Time:                        14:26:02   Log-Likelihood:                 493.26\n",
      "No. Observations:                 511   AIC:                            -956.5\n",
      "Df Residuals:                     496   BIC:                            -893.0\n",
      "Df Model:                          14                                         \n",
      "Covariance Type:            nonrobust                                         \n",
      "==============================================================================\n",
      "                 coef    std err          t      P>|t|      [0.025      0.975]\n",
      "------------------------------------------------------------------------------\n",
      "const          0.2877      0.022     13.006      0.000       0.244       0.331\n",
      "temp           0.3995      0.298      1.341      0.180      -0.186       0.985\n",
      "ftemp          0.1467      0.308      0.476      0.634      -0.459       0.752\n",
      "hum           -0.3026      0.026    -11.817      0.000      -0.353      -0.252\n",
      "windspeed     -0.3389      0.029    -11.570      0.000      -0.396      -0.281\n",
      "year_2012      0.2332      0.008     27.558      0.000       0.217       0.250\n",
      "month_5        0.0508      0.020      2.504      0.013       0.011       0.091\n",
      "month_6        0.0462      0.014      3.377      0.001       0.019       0.073\n",
      "month_7       -0.0433      0.015     -2.828      0.005      -0.073      -0.013\n",
      "month_8        0.0392      0.013      2.947      0.003       0.013       0.065\n",
      "month_9        0.0135      0.025      0.532      0.595      -0.036       0.063\n",
      "month_10       0.0478      0.021      2.297      0.022       0.007       0.089\n",
      "month_12       0.1087      0.018      5.916      0.000       0.073       0.145\n",
      "season_1       0.0788      0.017      4.639      0.000       0.045       0.112\n",
      "season_2       0.0421      0.022      1.882      0.060      -0.002       0.086\n",
      "season_3       0.1376      0.019      7.256      0.000       0.100       0.175\n",
      "==============================================================================\n",
      "Omnibus:                       40.616   Durbin-Watson:                   1.919\n",
      "Prob(Omnibus):                  0.000   Jarque-Bera (JB):               60.114\n",
      "Skew:                          -0.580   Prob(JB):                     8.84e-14\n",
      "Kurtosis:                       4.216   Cond. No.                     1.04e+16\n",
      "==============================================================================\n",
      "\n",
      "Notes:\n",
      "[1] Standard Errors assume that the covariance matrix of the errors is correctly specified.\n",
      "[2] The smallest eigenvalue is 1.19e-29. This might indicate that there are\n",
      "strong multicollinearity problems or that the design matrix is singular.\n"
     ]
    }
   ],
   "source": [
    "print(lr1.summary())"
   ]
  },
  {
   "cell_type": "code",
   "execution_count": 309,
   "metadata": {},
   "outputs": [
    {
     "data": {
      "image/png": "[encoded data removed]",
      "text/plain": [
       "<Figure size 432x288 with 1 Axes>"
      ]
     },
     "metadata": {
      "needs_background": "light"
     },
     "output_type": "display_data"
    }
   ],
   "source": [
    "a=[\"temp\", \"ftemp\", \"hum\", \"windspeed\", \"cnt\"]\n",
    "temp=dftest.copy(deep=True)\n",
    "temp[a]=scaler.transform(temp[a])\n",
    "ytest=temp[\"cnt\"]\n",
    "xtest=temp.drop(\"cnt\", axis=1)\n",
    "a=xtrain_rfe.columns\n",
    "xtest=xtest[a]\n",
    "xtest_lr1=sm.add_constant(xtest)\n",
    "ypred=lr1.predict(xtest_lr1)\n",
    "plt.scatter(ytest, ypred, alpha=0.5)\n",
    "plt.title(\"Test VS Predicted\")\n",
    "plt.xlabel(\"Test values\")\n",
    "plt.xlabel(\"Predicted values\")\n",
    "plt.show()\n",
    "scores.append(r2_score(ytest, ypred))"
   ]
  },
  {
   "cell_type": "code",
   "execution_count": 310,
   "metadata": {},
   "outputs": [
    {
     "data": {
      "text/html": [
       "<div>\n",
       "<style scoped>\n",
       "    .dataframe tbody tr th:only-of-type {\n",
       "        vertical-align: middle;\n",
       "    }\n",
       "\n",
       "    .dataframe tbody tr th {\n",
       "        vertical-align: top;\n",
       "    }\n",
       "\n",
       "    .dataframe thead th {\n",
       "        text-align: right;\n",
       "    }\n",
       "</style>\n",
       "<table border=\"1\" class=\"dataframe\">\n",
       "  <thead>\n",
       "    <tr style=\"text-align: right;\">\n",
       "      <th></th>\n",
       "      <th>features</th>\n",
       "      <th>vif</th>\n",
       "    </tr>\n",
       "  </thead>\n",
       "  <tbody>\n",
       "    <tr>\n",
       "      <th>0</th>\n",
       "      <td>temp</td>\n",
       "      <td>1768.33</td>\n",
       "    </tr>\n",
       "    <tr>\n",
       "      <th>1</th>\n",
       "      <td>ftemp</td>\n",
       "      <td>1650.92</td>\n",
       "    </tr>\n",
       "    <tr>\n",
       "      <th>2</th>\n",
       "      <td>hum</td>\n",
       "      <td>8.85</td>\n",
       "    </tr>\n",
       "    <tr>\n",
       "      <th>8</th>\n",
       "      <td>month_8</td>\n",
       "      <td>5.41</td>\n",
       "    </tr>\n",
       "    <tr>\n",
       "      <th>7</th>\n",
       "      <td>month_7</td>\n",
       "      <td>5.25</td>\n",
       "    </tr>\n",
       "    <tr>\n",
       "      <th>13</th>\n",
       "      <td>season_3</td>\n",
       "      <td>5.11</td>\n",
       "    </tr>\n",
       "    <tr>\n",
       "      <th>12</th>\n",
       "      <td>season_1</td>\n",
       "      <td>4.33</td>\n",
       "    </tr>\n",
       "    <tr>\n",
       "      <th>3</th>\n",
       "      <td>windspeed</td>\n",
       "      <td>4.18</td>\n",
       "    </tr>\n",
       "    <tr>\n",
       "      <th>6</th>\n",
       "      <td>month_6</td>\n",
       "      <td>4.17</td>\n",
       "    </tr>\n",
       "    <tr>\n",
       "      <th>9</th>\n",
       "      <td>month_9</td>\n",
       "      <td>2.81</td>\n",
       "    </tr>\n",
       "    <tr>\n",
       "      <th>10</th>\n",
       "      <td>month_10</td>\n",
       "      <td>2.13</td>\n",
       "    </tr>\n",
       "    <tr>\n",
       "      <th>4</th>\n",
       "      <td>year_2012</td>\n",
       "      <td>2.04</td>\n",
       "    </tr>\n",
       "    <tr>\n",
       "      <th>5</th>\n",
       "      <td>month_5</td>\n",
       "      <td>1.95</td>\n",
       "    </tr>\n",
       "    <tr>\n",
       "      <th>11</th>\n",
       "      <td>month_12</td>\n",
       "      <td>1.60</td>\n",
       "    </tr>\n",
       "  </tbody>\n",
       "</table>\n",
       "</div>"
      ],
      "text/plain": [
       "     features      vif\n",
       "0        temp  1768.33\n",
       "1       ftemp  1650.92\n",
       "2         hum     8.85\n",
       "8     month_8     5.41\n",
       "7     month_7     5.25\n",
       "13   season_3     5.11\n",
       "12   season_1     4.33\n",
       "3   windspeed     4.18\n",
       "6     month_6     4.17\n",
       "9     month_9     2.81\n",
       "10   month_10     2.13\n",
       "4   year_2012     2.04\n",
       "5     month_5     1.95\n",
       "11   month_12     1.60"
      ]
     },
     "execution_count": 310,
     "metadata": {},
     "output_type": "execute_result"
    }
   ],
   "source": [
    "xtrain_new=xtrain_rfe.drop([\"season_2\"], axis=1)\n",
    "vif=pd.DataFrame()\n",
    "vif[\"features\"]=xtrain_new.columns\n",
    "vif[\"vif\"]=[variance_inflation_factor(xtrain_new.values, i)\n",
    "            for i in range(xtrain_new.shape[1])]\n",
    "vif[\"vif\"]=round(vif[\"vif\"], 2)\n",
    "vif=vif.sort_values(by=\"vif\", ascending=False)\n",
    "xtrain_lr2=sm.add_constant(xtrain_new)\n",
    "lr2=sm.OLS(ytrain, xtrain_lr2).fit()\n",
    "vif"
   ]
  },
  {
   "cell_type": "code",
   "execution_count": 311,
   "metadata": {},
   "outputs": [
    {
     "name": "stdout",
     "output_type": "stream",
     "text": [
      "                            OLS Regression Results                            \n",
      "==============================================================================\n",
      "Dep. Variable:                    cnt   R-squared:                       0.832\n",
      "Model:                            OLS   Adj. R-squared:                  0.828\n",
      "Method:                 Least Squares   F-statistic:                     176.0\n",
      "Date:                Tue, 12 Jul 2022   Prob (F-statistic):          4.89e-182\n",
      "Time:                        14:26:03   Log-Likelihood:                 493.26\n",
      "No. Observations:                 511   AIC:                            -956.5\n",
      "Df Residuals:                     496   BIC:                            -893.0\n",
      "Df Model:                          14                                         \n",
      "Covariance Type:            nonrobust                                         \n",
      "==============================================================================\n",
      "                 coef    std err          t      P>|t|      [0.025      0.975]\n",
      "------------------------------------------------------------------------------\n",
      "const          0.2877      0.022     13.006      0.000       0.244       0.331\n",
      "temp           0.3995      0.298      1.341      0.180      -0.186       0.985\n",
      "ftemp          0.1467      0.308      0.476      0.634      -0.459       0.752\n",
      "hum           -0.3026      0.026    -11.817      0.000      -0.353      -0.252\n",
      "windspeed     -0.3389      0.029    -11.570      0.000      -0.396      -0.281\n",
      "year_2012      0.2332      0.008     27.558      0.000       0.217       0.250\n",
      "month_5        0.0508      0.020      2.504      0.013       0.011       0.091\n",
      "month_6        0.0883      0.031      2.844      0.005       0.027       0.149\n",
      "month_7       -0.0012      0.034     -0.037      0.971      -0.068       0.066\n",
      "month_8        0.0813      0.031      2.599      0.010       0.020       0.143\n",
      "month_9        0.0135      0.025      0.532      0.595      -0.036       0.063\n",
      "month_10       0.0478      0.021      2.297      0.022       0.007       0.089\n",
      "month_12       0.1087      0.018      5.916      0.000       0.073       0.145\n",
      "season_1       0.0788      0.017      4.639      0.000       0.045       0.112\n",
      "season_3       0.1376      0.019      7.256      0.000       0.100       0.175\n",
      "==============================================================================\n",
      "Omnibus:                       40.616   Durbin-Watson:                   1.919\n",
      "Prob(Omnibus):                  0.000   Jarque-Bera (JB):               60.114\n",
      "Skew:                          -0.580   Prob(JB):                     8.84e-14\n",
      "Kurtosis:                       4.216   Cond. No.                         162.\n",
      "==============================================================================\n",
      "\n",
      "Notes:\n",
      "[1] Standard Errors assume that the covariance matrix of the errors is correctly specified.\n"
     ]
    }
   ],
   "source": [
    "print(lr2.summary())"
   ]
  },
  {
   "cell_type": "code",
   "execution_count": 312,
   "metadata": {},
   "outputs": [
    {
     "data": {
      "image/png": "[encoded data removed]",
      "text/plain": [
       "<Figure size 432x288 with 1 Axes>"
      ]
     },
     "metadata": {
      "needs_background": "light"
     },
     "output_type": "display_data"
    }
   ],
   "source": [
    "a=[\"temp\", \"ftemp\", \"hum\", \"windspeed\", \"cnt\"]\n",
    "temp=dftest.copy(deep=True)\n",
    "temp[a]=scaler.transform(temp[a])\n",
    "ytest=temp.pop(\"cnt\")\n",
    "xtest=temp\n",
    "a=xtrain_new.columns\n",
    "xtest=xtest[a]\n",
    "xtest_lr2=sm.add_constant(xtest)\n",
    "ypred=lr2.predict(xtest_lr2)\n",
    "fig=plt.figure()\n",
    "a=plt.scatter(ytest, ypred, alpha=0.5)\n",
    "plt.title(\"Test VS Predicted\")\n",
    "plt.xlabel(\"Test values\")\n",
    "plt.xlabel(\"Predicted values\")\n",
    "plt.show()\n",
    "scores.append(r2_score(ytest, ypred))"
   ]
  },
  {
   "cell_type": "code",
   "execution_count": 313,
   "metadata": {},
   "outputs": [
    {
     "data": {
      "text/html": [
       "<div>\n",
       "<style scoped>\n",
       "    .dataframe tbody tr th:only-of-type {\n",
       "        vertical-align: middle;\n",
       "    }\n",
       "\n",
       "    .dataframe tbody tr th {\n",
       "        vertical-align: top;\n",
       "    }\n",
       "\n",
       "    .dataframe thead th {\n",
       "        text-align: right;\n",
       "    }\n",
       "</style>\n",
       "<table border=\"1\" class=\"dataframe\">\n",
       "  <thead>\n",
       "    <tr style=\"text-align: right;\">\n",
       "      <th></th>\n",
       "      <th>features</th>\n",
       "      <th>vif</th>\n",
       "    </tr>\n",
       "  </thead>\n",
       "  <tbody>\n",
       "    <tr>\n",
       "      <th>0</th>\n",
       "      <td>temp</td>\n",
       "      <td>34.35</td>\n",
       "    </tr>\n",
       "    <tr>\n",
       "      <th>1</th>\n",
       "      <td>hum</td>\n",
       "      <td>8.41</td>\n",
       "    </tr>\n",
       "    <tr>\n",
       "      <th>12</th>\n",
       "      <td>season_3</td>\n",
       "      <td>5.10</td>\n",
       "    </tr>\n",
       "    <tr>\n",
       "      <th>6</th>\n",
       "      <td>month_7</td>\n",
       "      <td>4.96</td>\n",
       "    </tr>\n",
       "    <tr>\n",
       "      <th>7</th>\n",
       "      <td>month_8</td>\n",
       "      <td>4.94</td>\n",
       "    </tr>\n",
       "    <tr>\n",
       "      <th>11</th>\n",
       "      <td>season_1</td>\n",
       "      <td>4.32</td>\n",
       "    </tr>\n",
       "    <tr>\n",
       "      <th>5</th>\n",
       "      <td>month_6</td>\n",
       "      <td>3.85</td>\n",
       "    </tr>\n",
       "    <tr>\n",
       "      <th>2</th>\n",
       "      <td>windspeed</td>\n",
       "      <td>3.50</td>\n",
       "    </tr>\n",
       "    <tr>\n",
       "      <th>8</th>\n",
       "      <td>month_9</td>\n",
       "      <td>2.57</td>\n",
       "    </tr>\n",
       "    <tr>\n",
       "      <th>9</th>\n",
       "      <td>month_10</td>\n",
       "      <td>2.10</td>\n",
       "    </tr>\n",
       "    <tr>\n",
       "      <th>3</th>\n",
       "      <td>year_2012</td>\n",
       "      <td>2.04</td>\n",
       "    </tr>\n",
       "    <tr>\n",
       "      <th>4</th>\n",
       "      <td>month_5</td>\n",
       "      <td>1.85</td>\n",
       "    </tr>\n",
       "    <tr>\n",
       "      <th>10</th>\n",
       "      <td>month_12</td>\n",
       "      <td>1.59</td>\n",
       "    </tr>\n",
       "  </tbody>\n",
       "</table>\n",
       "</div>"
      ],
      "text/plain": [
       "     features    vif\n",
       "0        temp  34.35\n",
       "1         hum   8.41\n",
       "12   season_3   5.10\n",
       "6     month_7   4.96\n",
       "7     month_8   4.94\n",
       "11   season_1   4.32\n",
       "5     month_6   3.85\n",
       "2   windspeed   3.50\n",
       "8     month_9   2.57\n",
       "9    month_10   2.10\n",
       "3   year_2012   2.04\n",
       "4     month_5   1.85\n",
       "10   month_12   1.59"
      ]
     },
     "execution_count": 313,
     "metadata": {},
     "output_type": "execute_result"
    }
   ],
   "source": [
    "xtrain_new=xtrain_rfe.drop([\"season_2\", \"ftemp\"], axis=1)\n",
    "vif=pd.DataFrame()\n",
    "vif[\"features\"]=xtrain_new.columns\n",
    "vif[\"vif\"]=[variance_inflation_factor(xtrain_new.values, i)\n",
    "            for i in range(xtrain_new.shape[1])]\n",
    "vif[\"vif\"]=round(vif[\"vif\"], 2)\n",
    "vif=vif.sort_values(by=\"vif\", ascending=False)\n",
    "xtrain_lr3=sm.add_constant(xtrain_new)\n",
    "lr3=sm.OLS(ytrain, xtrain_lr3).fit()\n",
    "vif"
   ]
  },
  {
   "cell_type": "code",
   "execution_count": 314,
   "metadata": {},
   "outputs": [
    {
     "name": "stdout",
     "output_type": "stream",
     "text": [
      "                            OLS Regression Results                            \n",
      "==============================================================================\n",
      "Dep. Variable:                    cnt   R-squared:                       0.832\n",
      "Model:                            OLS   Adj. R-squared:                  0.828\n",
      "Method:                 Least Squares   F-statistic:                     189.8\n",
      "Date:                Tue, 12 Jul 2022   Prob (F-statistic):          3.89e-183\n",
      "Time:                        14:26:04   Log-Likelihood:                 493.15\n",
      "No. Observations:                 511   AIC:                            -958.3\n",
      "Df Residuals:                     497   BIC:                            -899.0\n",
      "Df Model:                          13                                         \n",
      "Covariance Type:            nonrobust                                         \n",
      "==============================================================================\n",
      "                 coef    std err          t      P>|t|      [0.025      0.975]\n",
      "------------------------------------------------------------------------------\n",
      "const          0.2881      0.022     13.038      0.000       0.245       0.331\n",
      "temp           0.5398      0.044     12.206      0.000       0.453       0.627\n",
      "hum           -0.3006      0.025    -11.908      0.000      -0.350      -0.251\n",
      "windspeed     -0.3440      0.027    -12.633      0.000      -0.397      -0.290\n",
      "year_2012      0.2332      0.008     27.575      0.000       0.217       0.250\n",
      "month_5        0.0488      0.020      2.460      0.014       0.010       0.088\n",
      "month_6        0.0843      0.030      2.823      0.005       0.026       0.143\n",
      "month_7       -0.0050      0.033     -0.150      0.881      -0.070       0.060\n",
      "month_8        0.0770      0.030      2.573      0.010       0.018       0.136\n",
      "month_9        0.0101      0.024      0.415      0.678      -0.038       0.058\n",
      "month_10       0.0468      0.021      2.263      0.024       0.006       0.087\n",
      "month_12       0.1094      0.018      5.980      0.000       0.073       0.145\n",
      "season_1       0.0785      0.017      4.627      0.000       0.045       0.112\n",
      "season_3       0.1380      0.019      7.297      0.000       0.101       0.175\n",
      "==============================================================================\n",
      "Omnibus:                       40.042   Durbin-Watson:                   1.921\n",
      "Prob(Omnibus):                  0.000   Jarque-Bera (JB):               59.033\n",
      "Skew:                          -0.575   Prob(JB):                     1.52e-13\n",
      "Kurtosis:                       4.205   Cond. No.                         24.5\n",
      "==============================================================================\n",
      "\n",
      "Notes:\n",
      "[1] Standard Errors assume that the covariance matrix of the errors is correctly specified.\n"
     ]
    }
   ],
   "source": [
    "print(lr3.summary())"
   ]
  },
  {
   "cell_type": "code",
   "execution_count": 315,
   "metadata": {},
   "outputs": [
    {
     "data": {
      "image/png": "[encoded data removed]",
      "text/plain": [
       "<Figure size 432x288 with 1 Axes>"
      ]
     },
     "metadata": {
      "needs_background": "light"
     },
     "output_type": "display_data"
    }
   ],
   "source": [
    "a=[\"temp\", \"ftemp\", \"hum\", \"windspeed\", \"cnt\"]\n",
    "temp=dftest.copy(deep=True)\n",
    "temp[a]=scaler.transform(temp[a])\n",
    "ytest=temp.pop(\"cnt\")\n",
    "xtest=temp\n",
    "a=xtrain_new.columns\n",
    "xtest=xtest[a]\n",
    "xtest_lr3=sm.add_constant(xtest)\n",
    "ypred=lr3.predict(xtest_lr3)\n",
    "fig=plt.figure()\n",
    "plt.scatter(ytest, ypred, alpha=0.5)\n",
    "plt.title(\"Test VS Predicted\")\n",
    "plt.xlabel(\"Test values\")\n",
    "plt.xlabel(\"Predicted values\")\n",
    "plt.show()\n",
    "scores.append(r2_score(ytest, ypred))"
   ]
  },
  {
   "cell_type": "code",
   "execution_count": 316,
   "metadata": {},
   "outputs": [
    {
     "data": {
      "text/html": [
       "<div>\n",
       "<style scoped>\n",
       "    .dataframe tbody tr th:only-of-type {\n",
       "        vertical-align: middle;\n",
       "    }\n",
       "\n",
       "    .dataframe tbody tr th {\n",
       "        vertical-align: top;\n",
       "    }\n",
       "\n",
       "    .dataframe thead th {\n",
       "        text-align: right;\n",
       "    }\n",
       "</style>\n",
       "<table border=\"1\" class=\"dataframe\">\n",
       "  <thead>\n",
       "    <tr style=\"text-align: right;\">\n",
       "      <th></th>\n",
       "      <th>features</th>\n",
       "      <th>vif</th>\n",
       "    </tr>\n",
       "  </thead>\n",
       "  <tbody>\n",
       "    <tr>\n",
       "      <th>0</th>\n",
       "      <td>temp</td>\n",
       "      <td>26.22</td>\n",
       "    </tr>\n",
       "    <tr>\n",
       "      <th>11</th>\n",
       "      <td>season_3</td>\n",
       "      <td>5.02</td>\n",
       "    </tr>\n",
       "    <tr>\n",
       "      <th>6</th>\n",
       "      <td>month_8</td>\n",
       "      <td>4.78</td>\n",
       "    </tr>\n",
       "    <tr>\n",
       "      <th>5</th>\n",
       "      <td>month_7</td>\n",
       "      <td>4.66</td>\n",
       "    </tr>\n",
       "    <tr>\n",
       "      <th>10</th>\n",
       "      <td>season_1</td>\n",
       "      <td>4.32</td>\n",
       "    </tr>\n",
       "    <tr>\n",
       "      <th>4</th>\n",
       "      <td>month_6</td>\n",
       "      <td>3.65</td>\n",
       "    </tr>\n",
       "    <tr>\n",
       "      <th>1</th>\n",
       "      <td>windspeed</td>\n",
       "      <td>3.35</td>\n",
       "    </tr>\n",
       "    <tr>\n",
       "      <th>7</th>\n",
       "      <td>month_9</td>\n",
       "      <td>2.49</td>\n",
       "    </tr>\n",
       "    <tr>\n",
       "      <th>8</th>\n",
       "      <td>month_10</td>\n",
       "      <td>2.10</td>\n",
       "    </tr>\n",
       "    <tr>\n",
       "      <th>2</th>\n",
       "      <td>year_2012</td>\n",
       "      <td>2.04</td>\n",
       "    </tr>\n",
       "    <tr>\n",
       "      <th>3</th>\n",
       "      <td>month_5</td>\n",
       "      <td>1.85</td>\n",
       "    </tr>\n",
       "    <tr>\n",
       "      <th>9</th>\n",
       "      <td>month_12</td>\n",
       "      <td>1.51</td>\n",
       "    </tr>\n",
       "  </tbody>\n",
       "</table>\n",
       "</div>"
      ],
      "text/plain": [
       "     features    vif\n",
       "0        temp  26.22\n",
       "11   season_3   5.02\n",
       "6     month_8   4.78\n",
       "5     month_7   4.66\n",
       "10   season_1   4.32\n",
       "4     month_6   3.65\n",
       "1   windspeed   3.35\n",
       "7     month_9   2.49\n",
       "8    month_10   2.10\n",
       "2   year_2012   2.04\n",
       "3     month_5   1.85\n",
       "9    month_12   1.51"
      ]
     },
     "execution_count": 316,
     "metadata": {},
     "output_type": "execute_result"
    }
   ],
   "source": [
    "xtrain_new=xtrain_rfe.drop([\"season_2\", \"ftemp\", \"hum\"], axis=1)\n",
    "vif=pd.DataFrame()\n",
    "vif[\"features\"]=xtrain_new.columns\n",
    "vif[\"vif\"]=[variance_inflation_factor(xtrain_new.values, i)\n",
    "            for i in range(xtrain_new.shape[1])]\n",
    "vif[\"vif\"]=round(vif[\"vif\"], 2)\n",
    "vif=vif.sort_values(by=\"vif\", ascending=False)\n",
    "xtrain_lr4=sm.add_constant(xtrain_new)\n",
    "lr4=sm.OLS(ytrain, xtrain_lr4).fit()\n",
    "vif"
   ]
  },
  {
   "cell_type": "code",
   "execution_count": 317,
   "metadata": {},
   "outputs": [
    {
     "name": "stdout",
     "output_type": "stream",
     "text": [
      "                            OLS Regression Results                            \n",
      "==============================================================================\n",
      "Dep. Variable:                    cnt   R-squared:                       0.784\n",
      "Model:                            OLS   Adj. R-squared:                  0.779\n",
      "Method:                 Least Squares   F-statistic:                     151.1\n",
      "Date:                Tue, 12 Jul 2022   Prob (F-statistic):          2.74e-157\n",
      "Time:                        14:26:04   Log-Likelihood:                 429.02\n",
      "No. Observations:                 511   AIC:                            -832.0\n",
      "Df Residuals:                     498   BIC:                            -777.0\n",
      "Df Model:                          12                                         \n",
      "Covariance Type:            nonrobust                                         \n",
      "==============================================================================\n",
      "                 coef    std err          t      P>|t|      [0.025      0.975]\n",
      "------------------------------------------------------------------------------\n",
      "const          0.1318      0.020      6.547      0.000       0.092       0.171\n",
      "temp           0.4552      0.049      9.207      0.000       0.358       0.552\n",
      "windspeed     -0.2935      0.030     -9.635      0.000      -0.353      -0.234\n",
      "year_2012      0.2462      0.009     25.923      0.000       0.228       0.265\n",
      "month_5        0.0311      0.022      1.390      0.165      -0.013       0.075\n",
      "month_6        0.1343      0.033      4.015      0.000       0.069       0.200\n",
      "month_7        0.0483      0.037      1.302      0.194      -0.025       0.121\n",
      "month_8        0.1018      0.034      3.009      0.003       0.035       0.168\n",
      "month_9        0.0111      0.028      0.403      0.687      -0.043       0.065\n",
      "month_10       0.0317      0.023      1.356      0.176      -0.014       0.078\n",
      "month_12       0.0957      0.021      4.627      0.000       0.055       0.136\n",
      "season_1       0.0976      0.019      5.103      0.000       0.060       0.135\n",
      "season_3       0.1384      0.021      6.460      0.000       0.096       0.181\n",
      "==============================================================================\n",
      "Omnibus:                       57.655   Durbin-Watson:                   1.962\n",
      "Prob(Omnibus):                  0.000   Jarque-Bera (JB):               89.149\n",
      "Skew:                          -0.752   Prob(JB):                     4.38e-20\n",
      "Kurtosis:                       4.388   Cond. No.                         22.6\n",
      "==============================================================================\n",
      "\n",
      "Notes:\n",
      "[1] Standard Errors assume that the covariance matrix of the errors is correctly specified.\n"
     ]
    }
   ],
   "source": [
    "print(lr4.summary())"
   ]
  },
  {
   "cell_type": "code",
   "execution_count": 318,
   "metadata": {},
   "outputs": [
    {
     "data": {
      "image/png": "[encoded data removed]",
      "text/plain": [
       "<Figure size 432x288 with 1 Axes>"
      ]
     },
     "metadata": {
      "needs_background": "light"
     },
     "output_type": "display_data"
    }
   ],
   "source": [
    "a=[\"temp\", \"ftemp\", \"hum\", \"windspeed\", \"cnt\"]\n",
    "temp=dftest.copy(deep=True)\n",
    "temp[a]=scaler.transform(temp[a])\n",
    "ytest=temp.pop(\"cnt\")\n",
    "xtest=temp\n",
    "a=xtrain_new.columns\n",
    "xtest=xtest[a]\n",
    "xtest_lr4=sm.add_constant(xtest)\n",
    "ypred=lr4.predict(xtest_lr4)\n",
    "fig=plt.figure()\n",
    "plt.scatter(ytest, ypred, alpha=0.5)\n",
    "plt.title(\"Test VS Predicted\")\n",
    "plt.xlabel(\"Test values\")\n",
    "plt.xlabel(\"Predicted values\")\n",
    "plt.show()\n",
    "scores.append(r2_score(ytest, ypred))"
   ]
  },
  {
   "cell_type": "code",
   "execution_count": 319,
   "metadata": {},
   "outputs": [
    {
     "data": {
      "text/plain": [
       "<AxesSubplot:ylabel='Density'>"
      ]
     },
     "execution_count": 319,
     "metadata": {},
     "output_type": "execute_result"
    },
    {
     "data": {
      "image/png": "[encoded data removed]",
      "text/plain": [
       "<Figure size 432x288 with 1 Axes>"
      ]
     },
     "metadata": {
      "needs_background": "light"
     },
     "output_type": "display_data"
    }
   ],
   "source": [
    "# Error term distribution in our best performing models is normal, which\n",
    "# means that a linear regression is appropriate\n",
    "ytrain_pred=lr4.predict(xtrain_lr4)\n",
    "res=ytrain-ytrain_pred\n",
    "fig=plt.figure()\n",
    "sns.distplot(res, bins=20)"
   ]
  },
  {
   "cell_type": "code",
   "execution_count": 320,
   "metadata": {},
   "outputs": [
    {
     "data": {
      "text/plain": [
       "[0.7498588502679582,\n",
       " 0.7498588502679584,\n",
       " 0.7486090647809922,\n",
       " 0.7000652279321278]"
      ]
     },
     "execution_count": 320,
     "metadata": {},
     "output_type": "execute_result"
    }
   ],
   "source": [
    "scores"
   ]
  }
 ],
 "metadata": {
  "kernelspec": {
   "display_name": "Python 3.9.7 ('base')",
   "language": "python",
   "name": "python3"
  },
  "language_info": {
   "codemirror_mode": {
    "name": "ipython",
    "version": 3
   },
   "file_extension": ".py",
   "mimetype": "text/x-python",
   "name": "python",
   "nbconvert_exporter": "python",
   "pygments_lexer": "ipython3",
   "version": "3.9.7"
  },
  "orig_nbformat": 4,
  "vscode": {
   "interpreter": {
    "hash": "34ab73eb2a201c4b750598ec4bd41f14c725bb809bc0c8207569acb80dee3ff5"
   }
  }
 },
 "nbformat": 4,
 "nbformat_minor": 2
}
