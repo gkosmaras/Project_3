{
 "cells": [
  {
   "cell_type": "code",
   "execution_count": null,
   "metadata": {},
   "outputs": [],
   "source": [
    "import warnings\n",
    "warnings.filterwarnings(\"ignore\")\n",
    "import pandas as pd\n",
    "import numpy as np\n",
    "import matplotlib.pyplot as plt\n",
    "import seaborn as sns\n",
    "import statsmodels.api as sm\n",
    "from sklearn.decomposition import PCA\n",
    "from sklearn.model_selection import train_test_split\n",
    "from sklearn.preprocessing import MinMaxScaler, OneHotEncoder, StandardScaler\n",
    "from sklearn.feature_selection import RFE\n",
    "from sklearn.linear_model import LinearRegression\n",
    "from statsmodels.stats.outliers_influence import variance_inflation_factor\n",
    "scaler=MinMaxScaler()\n",
    "df=pd.read_csv(\"daily\")\n",
    "temp_df=df.copy(deep=True)\n",
    "temp_df[\"season\"].replace({\"Winter\":0,\"Spring\":1,\"Summer\":2,\n",
    "                        \"Autumn\":3}, inplace=True)\n",
    "temp_df[\"weekday\"].replace({\"Sun\":0,\"Mon\":1,\"Tue\":2,\"Wed\":3,\"Thu\":4,\n",
    "                                \"Fri\":5,\"Sat\":6}, inplace=True)\n",
    "temp_df[\"weather\"].replace({\"good\":0,\"cloudy\":1,\"overcast\":2,\"rain\":3,\n",
    "                                \"snow\":4}, inplace=True)\n",
    "clean_df=temp_df.copy(deep=True)\n",
    "a=temp_df.columns\n",
    "a=[i for i in a if i in [\"registered\", \"year\", \"casual\", \"instant\",\n",
    "    \"date\", \"ftemp\"]]\n",
    "temp_df.drop(a, axis=1, inplace=True)\n",
    "a=clean_df.columns\n",
    "a=[i for i in a if i not in [\"temp\", \"season\", \"month\", \"cnt\", \"windspeed\"]]\n",
    "clean_df.drop(a, axis=1, inplace=True)"
   ]
  },
  {
   "cell_type": "code",
   "execution_count": null,
   "metadata": {},
   "outputs": [],
   "source": [
    "sns.heatmap(temp_df.corr().round(2),annot=True)"
   ]
  },
  {
   "cell_type": "code",
   "execution_count": null,
   "metadata": {},
   "outputs": [],
   "source": [
    "temp_df.corr()[[\"cnt\"]].sort_values(by=\"cnt\", ascending=False)"
   ]
  },
  {
   "cell_type": "code",
   "execution_count": null,
   "metadata": {},
   "outputs": [],
   "source": [
    "sns.pairplot(clean_df)"
   ]
  },
  {
   "cell_type": "code",
   "execution_count": null,
   "metadata": {},
   "outputs": [],
   "source": [
    "x=clean_df[[\"month\", \"season\", \"temp\", \"windspeed\"]]\n",
    "x[\"month\"]=pd.Categorical(x[\"month\"])\n",
    "x[\"season\"]=pd.Categorical(x[\"season\"])\n",
    "x=pd.get_dummies(data=x)\n",
    "y=clean_df[\"cnt\"]"
   ]
  },
  {
   "cell_type": "code",
   "execution_count": null,
   "metadata": {},
   "outputs": [],
   "source": [
    "xtrain, xtest, ytrain, ytest= train_test_split(x, y, test_size=0.4, \n",
    "                                                random_state=1)\n",
    "model=LinearRegression()\n",
    "model.fit(xtrain, ytrain)\n",
    "print(model.intercept_)\n",
    "coef_par=pd.DataFrame(model.coef_, x.columns,columns=[\"coefficient\"])\n",
    "pred=model.predict(xtest)\n",
    "sns.regplot(ytest, pred)"
   ]
  },
  {
   "cell_type": "code",
   "execution_count": null,
   "metadata": {},
   "outputs": [],
   "source": [
    "xtrainsm=sm.add_constant(xtrain)\n",
    "xtrainsm=sm.add_constant(xtrain)\n",
    "ls=sm.OLS(ytrain, xtrainsm).fit()\n",
    "print(ls.summary())"
   ]
  },
  {
   "cell_type": "markdown",
   "metadata": {},
   "source": [
    "Similar bike dataset testing"
   ]
  },
  {
   "cell_type": "code",
   "execution_count": null,
   "metadata": {},
   "outputs": [],
   "source": [
    "temp_df=df.copy(deep=True)\n",
    "temp_df[\"season\"].replace({\"Winter\":0,\"Spring\":1,\"Summer\":2,\n",
    "                        \"Autumn\":3}, inplace=True)\n",
    "temp_df[\"weekday\"].replace({\"Sun\":0,\"Mon\":1,\"Tue\":2,\"Wed\":3,\"Thu\":4,\n",
    "                                \"Fri\":5,\"Sat\":6}, inplace=True)\n",
    "temp_df[\"weather\"].replace({\"good\":0,\"cloudy\":1,\"overcast\":2,\"rain\":3,\n",
    "                                \"snow\":4}, inplace=True)\n",
    "a=df.columns\n",
    "a=[i for i in a if i in [\"instant\", \"date\", \"day\", \"casual\",\n",
    "    \"ftemp\", \"registered\"]]\n",
    "temp_df.drop(a, axis=1, inplace=True)\n",
    "temp_df[\"season\"]=temp_df[\"season\"].astype(\"category\")\n",
    "temp_df[\"month\"]=temp_df[\"month\"].astype(\"category\")\n",
    "temp_df[\"weekday\"]=temp_df[\"weekday\"].astype(\"category\")\n",
    "temp_df[\"workingday\"]=temp_df[\"workingday\"].astype(\"category\")\n",
    "temp_df[\"holiday\"]=temp_df[\"holiday\"].astype(\"category\")\n",
    "temp_df[\"weather\"]=temp_df[\"weather\"].astype(\"category\")\n",
    "temp_df[\"year\"]=temp_df[\"year\"].astype(\"category\")\n",
    "temp_df=pd.get_dummies(temp_df, drop_first=True)"
   ]
  },
  {
   "cell_type": "code",
   "execution_count": null,
   "metadata": {},
   "outputs": [],
   "source": [
    "# Visualise the numerical values to see if there's any relation\n",
    "temp_df_num=temp_df[[\"temp\", \"hum\", \"windspeed\", \"cnt\"]]\n",
    "sns.pairplot(temp_df_num, diag_kind=\"kde\")"
   ]
  },
  {
   "cell_type": "code",
   "execution_count": null,
   "metadata": {},
   "outputs": [],
   "source": [
    "# Visualise the categorical values to see the distribution\n",
    "plt.figure(figsize=(25,10))\n",
    "plt.subplot(2,3,1)\n",
    "sns.boxplot(x=\"season\", y=\"cnt\", data=df)\n",
    "plt.subplot(2,3,2)\n",
    "sns.boxplot(x=\"month\", y=\"cnt\", data=df)\n",
    "plt.subplot(2,3,3)\n",
    "sns.boxplot(x=\"weekday\", y=\"cnt\", data=df)\n",
    "plt.subplot(2,3,4)\n",
    "sns.boxplot(x=\"workingday\", y=\"cnt\", data=df)\n",
    "plt.subplot(2,3,5)\n",
    "sns.boxplot(x=\"holiday\", y=\"cnt\", data=df)\n",
    "plt.subplot(2,3,6)\n",
    "sns.boxplot(x=\"weather\", y=\"cnt\", data=df)\n"
   ]
  },
  {
   "cell_type": "code",
   "execution_count": null,
   "metadata": {},
   "outputs": [],
   "source": [
    "plt.figure(figsize=(25,20))\n",
    "matrix=np.triu(df.corr())\n",
    "sns.heatmap(df.corr(), annot=True, mask=matrix)\n",
    "plt.show()\n",
    "print(df.corr()[[\"cnt\"]].sort_values(by=\"cnt\", ascending=False))"
   ]
  },
  {
   "cell_type": "code",
   "execution_count": null,
   "metadata": {},
   "outputs": [],
   "source": [
    "x=[\"temp\", \"hum\", \"windspeed\", \"cnt\"]\n",
    "temp_df[x]=scaler.fit_transform(temp_df[x])"
   ]
  },
  {
   "cell_type": "code",
   "execution_count": null,
   "metadata": {},
   "outputs": [],
   "source": [
    "xtrain=temp_df\n",
    "ytrain=temp_df[\"cnt\"]"
   ]
  },
  {
   "cell_type": "code",
   "execution_count": 234,
   "metadata": {},
   "outputs": [
    {
     "data": {
      "text/html": [
       "<div>\n",
       "<style scoped>\n",
       "    .dataframe tbody tr th:only-of-type {\n",
       "        vertical-align: middle;\n",
       "    }\n",
       "\n",
       "    .dataframe tbody tr th {\n",
       "        vertical-align: top;\n",
       "    }\n",
       "\n",
       "    .dataframe thead th {\n",
       "        text-align: right;\n",
       "    }\n",
       "</style>\n",
       "<table border=\"1\" class=\"dataframe\">\n",
       "  <thead>\n",
       "    <tr style=\"text-align: right;\">\n",
       "      <th></th>\n",
       "      <th>Features</th>\n",
       "      <th>vif</th>\n",
       "    </tr>\n",
       "  </thead>\n",
       "  <tbody>\n",
       "    <tr>\n",
       "      <th>6</th>\n",
       "      <td>month_9</td>\n",
       "      <td>inf</td>\n",
       "    </tr>\n",
       "    <tr>\n",
       "      <th>7</th>\n",
       "      <td>month_10</td>\n",
       "      <td>inf</td>\n",
       "    </tr>\n",
       "    <tr>\n",
       "      <th>8</th>\n",
       "      <td>month_11</td>\n",
       "      <td>inf</td>\n",
       "    </tr>\n",
       "    <tr>\n",
       "      <th>11</th>\n",
       "      <td>season_3</td>\n",
       "      <td>inf</td>\n",
       "    </tr>\n",
       "    <tr>\n",
       "      <th>1</th>\n",
       "      <td>cnt</td>\n",
       "      <td>7.27</td>\n",
       "    </tr>\n",
       "    <tr>\n",
       "      <th>10</th>\n",
       "      <td>season_2</td>\n",
       "      <td>4.90</td>\n",
       "    </tr>\n",
       "    <tr>\n",
       "      <th>9</th>\n",
       "      <td>season_1</td>\n",
       "      <td>4.69</td>\n",
       "    </tr>\n",
       "    <tr>\n",
       "      <th>13</th>\n",
       "      <td>workingday_1</td>\n",
       "      <td>3.11</td>\n",
       "    </tr>\n",
       "    <tr>\n",
       "      <th>0</th>\n",
       "      <td>windspeed</td>\n",
       "      <td>2.82</td>\n",
       "    </tr>\n",
       "    <tr>\n",
       "      <th>2</th>\n",
       "      <td>month_3</td>\n",
       "      <td>2.11</td>\n",
       "    </tr>\n",
       "    <tr>\n",
       "      <th>3</th>\n",
       "      <td>month_4</td>\n",
       "      <td>2.02</td>\n",
       "    </tr>\n",
       "    <tr>\n",
       "      <th>5</th>\n",
       "      <td>month_7</td>\n",
       "      <td>2.00</td>\n",
       "    </tr>\n",
       "    <tr>\n",
       "      <th>4</th>\n",
       "      <td>month_6</td>\n",
       "      <td>1.97</td>\n",
       "    </tr>\n",
       "    <tr>\n",
       "      <th>12</th>\n",
       "      <td>weekday_2</td>\n",
       "      <td>1.26</td>\n",
       "    </tr>\n",
       "    <tr>\n",
       "      <th>14</th>\n",
       "      <td>weather_4</td>\n",
       "      <td>1.02</td>\n",
       "    </tr>\n",
       "  </tbody>\n",
       "</table>\n",
       "</div>"
      ],
      "text/plain": [
       "        Features   vif\n",
       "6        month_9   inf\n",
       "7       month_10   inf\n",
       "8       month_11   inf\n",
       "11      season_3   inf\n",
       "1            cnt  7.27\n",
       "10      season_2  4.90\n",
       "9       season_1  4.69\n",
       "13  workingday_1  3.11\n",
       "0      windspeed  2.82\n",
       "2        month_3  2.11\n",
       "3        month_4  2.02\n",
       "5        month_7  2.00\n",
       "4        month_6  1.97\n",
       "12     weekday_2  1.26\n",
       "14     weather_4  1.02"
      ]
     },
     "execution_count": 234,
     "metadata": {},
     "output_type": "execute_result"
    }
   ],
   "source": [
    "lm=LinearRegression()\n",
    "lm.fit(xtrain,ytrain)\n",
    "rfe=RFE(lm)\n",
    "rfe=rfe.fit(xtrain, ytrain)\n",
    "list(zip(xtrain.columns, rfe.support_, rfe.ranking_))\n",
    "col=xtrain.columns[rfe.support_]\n",
    "xtrain_rfe=xtrain[col]\n",
    "#xtrain_rfe.drop(\"cnt\", axis=1, inplace=True)\n",
    "vif=pd.DataFrame()\n",
    "vif[\"Features\"]=xtrain_rfe.columns\n",
    "vif[\"vif\"]=[variance_inflation_factor(xtrain_rfe.values, i) for\n",
    "            i in range(xtrain_rfe.shape[1])]\n",
    "vif[\"vif\"]=round(vif[\"vif\"],2)\n",
    "vif=vif.sort_values(by=\"vif\", ascending=False)\n",
    "vif"
   ]
  },
  {
   "cell_type": "code",
   "execution_count": 237,
   "metadata": {},
   "outputs": [
    {
     "data": {
      "text/html": [
       "<div>\n",
       "<style scoped>\n",
       "    .dataframe tbody tr th:only-of-type {\n",
       "        vertical-align: middle;\n",
       "    }\n",
       "\n",
       "    .dataframe tbody tr th {\n",
       "        vertical-align: top;\n",
       "    }\n",
       "\n",
       "    .dataframe thead th {\n",
       "        text-align: right;\n",
       "    }\n",
       "</style>\n",
       "<table border=\"1\" class=\"dataframe\">\n",
       "  <thead>\n",
       "    <tr style=\"text-align: right;\">\n",
       "      <th></th>\n",
       "      <th>Features</th>\n",
       "      <th>vif</th>\n",
       "    </tr>\n",
       "  </thead>\n",
       "  <tbody>\n",
       "    <tr>\n",
       "      <th>8</th>\n",
       "      <td>season_2</td>\n",
       "      <td>3.54</td>\n",
       "    </tr>\n",
       "    <tr>\n",
       "      <th>7</th>\n",
       "      <td>season_1</td>\n",
       "      <td>3.46</td>\n",
       "    </tr>\n",
       "    <tr>\n",
       "      <th>9</th>\n",
       "      <td>season_3</td>\n",
       "      <td>3.46</td>\n",
       "    </tr>\n",
       "    <tr>\n",
       "      <th>11</th>\n",
       "      <td>workingday_1</td>\n",
       "      <td>2.81</td>\n",
       "    </tr>\n",
       "    <tr>\n",
       "      <th>0</th>\n",
       "      <td>windspeed</td>\n",
       "      <td>2.69</td>\n",
       "    </tr>\n",
       "    <tr>\n",
       "      <th>5</th>\n",
       "      <td>month_10</td>\n",
       "      <td>2.04</td>\n",
       "    </tr>\n",
       "    <tr>\n",
       "      <th>1</th>\n",
       "      <td>month_3</td>\n",
       "      <td>2.02</td>\n",
       "    </tr>\n",
       "    <tr>\n",
       "      <th>2</th>\n",
       "      <td>month_4</td>\n",
       "      <td>2.00</td>\n",
       "    </tr>\n",
       "    <tr>\n",
       "      <th>4</th>\n",
       "      <td>month_7</td>\n",
       "      <td>2.00</td>\n",
       "    </tr>\n",
       "    <tr>\n",
       "      <th>6</th>\n",
       "      <td>month_11</td>\n",
       "      <td>2.00</td>\n",
       "    </tr>\n",
       "    <tr>\n",
       "      <th>3</th>\n",
       "      <td>month_6</td>\n",
       "      <td>1.97</td>\n",
       "    </tr>\n",
       "    <tr>\n",
       "      <th>10</th>\n",
       "      <td>weekday_2</td>\n",
       "      <td>1.26</td>\n",
       "    </tr>\n",
       "    <tr>\n",
       "      <th>12</th>\n",
       "      <td>weather_4</td>\n",
       "      <td>1.02</td>\n",
       "    </tr>\n",
       "  </tbody>\n",
       "</table>\n",
       "</div>"
      ],
      "text/plain": [
       "        Features   vif\n",
       "8       season_2  3.54\n",
       "7       season_1  3.46\n",
       "9       season_3  3.46\n",
       "11  workingday_1  2.81\n",
       "0      windspeed  2.69\n",
       "5       month_10  2.04\n",
       "1        month_3  2.02\n",
       "2        month_4  2.00\n",
       "4        month_7  2.00\n",
       "6       month_11  2.00\n",
       "3        month_6  1.97\n",
       "10     weekday_2  1.26\n",
       "12     weather_4  1.02"
      ]
     },
     "execution_count": 237,
     "metadata": {},
     "output_type": "execute_result"
    }
   ],
   "source": [
    "lm=LinearRegression()\n",
    "lm.fit(xtrain,ytrain)\n",
    "rfe=RFE(lm)\n",
    "rfe=rfe.fit(xtrain, ytrain)\n",
    "list(zip(xtrain.columns, rfe.support_, rfe.ranking_))\n",
    "col=xtrain.columns[rfe.support_]\n",
    "xtrain_rfe=xtrain[col]\n",
    "xtrain_rfe.drop([\"cnt\", \"month_9\"], axis=1, inplace=True)\n",
    "vif=pd.DataFrame()\n",
    "vif[\"Features\"]=xtrain_rfe.columns\n",
    "vif[\"vif\"]=[variance_inflation_factor(xtrain_rfe.values, i) for\n",
    "            i in range(xtrain_rfe.shape[1])]\n",
    "vif[\"vif\"]=round(vif[\"vif\"],2)\n",
    "vif=vif.sort_values(by=\"vif\", ascending=False)\n",
    "vif"
   ]
  },
  {
   "cell_type": "code",
   "execution_count": null,
   "metadata": {},
   "outputs": [],
   "source": [
    "xtrain_lm1=sm.add_constant(xtrain_rfe)\n",
    "lr1=sm.OLS(ytrain,xtrain_lm1).fit()\n",
    "print(lr1.params)\n",
    "print(lr1.summary())"
   ]
  },
  {
   "cell_type": "code",
   "execution_count": 239,
   "metadata": {},
   "outputs": [],
   "source": [
    "a=xtrain_rfe.columns\n",
    "final=temp_df[a]\n",
    "final_y=temp_df[\"cnt\"]\n",
    "xtestlm6=sm.add_constant(final)\n",
    "ypred=lr1.predict(xtestlm6)"
   ]
  },
  {
   "cell_type": "code",
   "execution_count": 245,
   "metadata": {},
   "outputs": [
    {
     "data": {
      "image/png": "[encoded data removed]",
      "text/plain": [
       "<Figure size 432x288 with 1 Axes>"
      ]
     },
     "metadata": {
      "needs_background": "light"
     },
     "output_type": "display_data"
    }
   ],
   "source": [
    "fig=plt.figure()\n",
    "plt.scatter(final_y, ypred, alpha=0.3)\n",
    "plt.show()"
   ]
  },
  {
   "cell_type": "code",
   "execution_count": 242,
   "metadata": {},
   "outputs": [],
   "source": [
    "from sklearn.metrics import r2_score"
   ]
  },
  {
   "cell_type": "code",
   "execution_count": 243,
   "metadata": {},
   "outputs": [
    {
     "data": {
      "text/plain": [
       "0.4086163245100449"
      ]
     },
     "execution_count": 243,
     "metadata": {},
     "output_type": "execute_result"
    }
   ],
   "source": [
    "r2_score(final_y, ypred)"
   ]
  }
 ],
 "metadata": {
  "kernelspec": {
   "display_name": "Python 3.9.7 ('base')",
   "language": "python",
   "name": "python3"
  },
  "language_info": {
   "codemirror_mode": {
    "name": "ipython",
    "version": 3
   },
   "file_extension": ".py",
   "mimetype": "text/x-python",
   "name": "python",
   "nbconvert_exporter": "python",
   "pygments_lexer": "ipython3",
   "version": "3.9.7"
  },
  "orig_nbformat": 4,
  "vscode": {
   "interpreter": {
    "hash": "34ab73eb2a201c4b750598ec4bd41f14c725bb809bc0c8207569acb80dee3ff5"
   }
  }
 },
 "nbformat": 4,
 "nbformat_minor": 2
}
