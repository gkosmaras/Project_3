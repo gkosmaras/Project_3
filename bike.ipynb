{
 "cells": [
  {
   "cell_type": "code",
   "execution_count": 28,
   "metadata": {},
   "outputs": [],
   "source": [
    "import pandas as pd\n",
    "import numpy as np\n",
    "import seaborn as sns\n",
    "import matplotlib.pyplot as plt\n",
    "dfd=pd.read_csv(\"day.csv\")\n",
    "dfh=pd.read_csv(\"hour.csv\")\n",
    "dfd=dfd.rename(columns={\"dteday\":\"date\",\"yr\":\"year\",\"atemp\":\"ftemp\",\"mnth\":\"month\",\"weathersit\":\"weather\",\"weekday\":\"day\",\"cnt\":\"count\"})\n",
    "dfh=dfh.rename(columns={\"dteday\":\"date\",\"yr\":\"year\",\"atemp\":\"ftemp\",\"mnth\":\"month\",\"hr\":\"hour\",\"weathersit\":\"weather\",\"weekday\":\"day\",\"cnt\":\"count\"})\n",
    "dfd[\"date\"]=pd.to_datetime(dfd[\"date\"])\n",
    "dfh[\"date\"]=pd.to_datetime(dfh[\"date\"])\n",
    "#No missing values"
   ]
  },
  {
   "cell_type": "code",
   "execution_count": 33,
   "metadata": {},
   "outputs": [
    {
     "data": {
      "text/plain": [
       "0"
      ]
     },
     "execution_count": 33,
     "metadata": {},
     "output_type": "execute_result"
    }
   ],
   "source": [
    "dfh.isnull().sum().sum()"
   ]
  }
 ],
 "metadata": {
  "interpreter": {
   "hash": "34ab73eb2a201c4b750598ec4bd41f14c725bb809bc0c8207569acb80dee3ff5"
  },
  "kernelspec": {
   "display_name": "Python 3.9.7 ('base')",
   "language": "python",
   "name": "python3"
  },
  "language_info": {
   "codemirror_mode": {
    "name": "ipython",
    "version": 3
   },
   "file_extension": ".py",
   "mimetype": "text/x-python",
   "name": "python",
   "nbconvert_exporter": "python",
   "pygments_lexer": "ipython3",
   "version": "3.9.7"
  },
  "orig_nbformat": 4
 },
 "nbformat": 4,
 "nbformat_minor": 2
}
