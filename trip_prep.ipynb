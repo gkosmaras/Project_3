{
 "cells": [
  {
   "cell_type": "code",
   "execution_count": 52,
   "metadata": {},
   "outputs": [],
   "source": [
    "import pandas as pd\n",
    "import numpy as np\n",
    "from geopy.geocoders import Nominatim\n",
    "import time\n",
    "geolocator=Nominatim(user_agent=\"bike_application\")\n",
    "trips11=pd.read_csv(r\"C:\\Users\\giorg\\Desktop\\Trips\\capitalbikeshare_tripdata_11.csv\")\n",
    "trips11.columns=trips11.columns.str.replace(\" \",\"_\").str.lower()\n",
    "trips11[\"start_date\"]=pd.to_datetime(trips11[\"start_date\"])\n",
    "trips11[\"end_date\"]=pd.to_datetime(trips11[\"end_date\"])\n",
    "trips11[\"duration\"]=(trips11[\"duration\"]/60).round(1)\n"
   ]
  },
  {
   "cell_type": "code",
   "execution_count": 63,
   "metadata": {},
   "outputs": [
    {
     "data": {
      "text/plain": [
       "2.8763408210361057"
      ]
     },
     "execution_count": 63,
     "metadata": {},
     "output_type": "execute_result"
    }
   ],
   "source": [
    "#We may drop all trips under 3 minutes, as they constitue a fringe outlier, and may not even be correct. we will check with the distance\n",
    "(((trips11.loc[:,\"duration\"]<3).sum())*100)/len(trips11)"
   ]
  },
  {
   "cell_type": "code",
   "execution_count": 66,
   "metadata": {},
   "outputs": [],
   "source": [
    "temp=pd.DataFrame()\n",
    "temp[\"start\"]=trips11[\"start_station\"].unique()\n",
    "temp[\"start\"]=temp[\"start\"]+\" DC\"\n",
    "start_geo=list()\n",
    "for i in range(len(temp)):\n",
    "    try:\n",
    "        time.sleep(1)\n",
    "        start_geo[i]=geolocator.geocode(temp.loc[i,\"start\"])\n",
    "    except Exception as e:\n",
    "        pass"
   ]
  }
 ],
 "metadata": {
  "interpreter": {
   "hash": "34ab73eb2a201c4b750598ec4bd41f14c725bb809bc0c8207569acb80dee3ff5"
  },
  "kernelspec": {
   "display_name": "Python 3.9.7 ('base')",
   "language": "python",
   "name": "python3"
  },
  "language_info": {
   "codemirror_mode": {
    "name": "ipython",
    "version": 3
   },
   "file_extension": ".py",
   "mimetype": "text/x-python",
   "name": "python",
   "nbconvert_exporter": "python",
   "pygments_lexer": "ipython3",
   "version": "3.9.7"
  },
  "orig_nbformat": 4
 },
 "nbformat": 4,
 "nbformat_minor": 2
}
