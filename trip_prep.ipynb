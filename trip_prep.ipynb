{
 "cells": [
  {
   "cell_type": "code",
   "execution_count": 69,
   "metadata": {},
   "outputs": [],
   "source": [
    "import pandas as pd\n",
    "import numpy as np\n",
    "import matplotlib.pyplot as plt\n",
    "import seaborn as sns\n",
    "from geopy.geocoders import Nominatim\n",
    "from geopy import distance\n",
    "from geopy.extra.rate_limiter import RateLimiter\n",
    "import json\n",
    "import glob\n",
    "import os\n",
    "import shapefile as shp\n",
    "from difflib import SequenceMatcher\n",
    "geolocator=Nominatim(user_agent=\"bike_application\")\n",
    "trips11=pd.read_csv(r\"C:\\Users\\giorg\\Desktop\\Trips\\capitalbikeshare_tripdata_11.csv\")\n",
    "files=os.path.join(\"C:\\\\Users\\\\giorg\\\\Desktop\\\\Trips\\\\\",\"capitalbikeshare_tripdata_12q*.csv\")\n",
    "files=glob.glob(files)\n",
    "trips12=pd.concat(map(pd.read_csv,files),ignore_index=True)\n",
    "trips11.columns=trips11.columns.str.replace(\" \",\"_\").str.lower()\n",
    "trips12.columns=trips12.columns.str.replace(\" \",\"_\").str.lower()\n",
    "trips11[\"start_date\"]=pd.to_datetime(trips11[\"start_date\"])\n",
    "trips11[\"end_date\"]=pd.to_datetime(trips11[\"end_date\"])\n",
    "trips11[\"duration\"]=(trips11[\"duration\"]/60).round(1)\n",
    "trips12[\"start_date\"]=pd.to_datetime(trips12[\"start_date\"])\n",
    "trips12[\"end_date\"]=pd.to_datetime(trips12[\"end_date\"])\n",
    "trips12[\"duration\"]=(trips12[\"duration\"]/60).round(1)\n",
    "stations11=trips11[\"start_station\"].unique()\n",
    "stations11=pd.DataFrame(stations11,columns=[\"station\"])\n",
    "stations11[\"lat\"]=np.nan\n",
    "stations11[\"long\"]=np.nan"
   ]
  },
  {
   "cell_type": "code",
   "execution_count": 1,
   "metadata": {},
   "outputs": [
    {
     "name": "stderr",
     "output_type": "stream",
     "text": [
      "PROJ: proj_create_from_database: SQLite error on SELECT name, type, coordinate_system_auth_name, coordinate_system_code, datum_auth_name, datum_code, area_of_use_auth_name, area_of_use_code, text_definition, deprecated FROM geodetic_crs WHERE auth_name = ? AND code = ?: no such column: area_of_use_auth_name\n"
     ]
    }
   ],
   "source": [
    "import geopandas"
   ]
  },
  {
   "cell_type": "code",
   "execution_count": 70,
   "metadata": {},
   "outputs": [],
   "source": [
    "with open(\"en_station_information.json\",\"r\") as json_file:\n",
    "    json_load=json.load(json_file)\n",
    "station_info=pd.DataFrame(json_load[\"data\"][\"stations\"])\n",
    "station_info=station_info.drop([\"electric_bike_surcharge_waiver\",\"eightd_station_services\",\"station_type\",\"rental_uris\",\"rental_methods\",\n",
    "\"external_id\",\"has_kiosk\",\"eightd_has_key_dispenser\"],axis=1)"
   ]
  },
  {
   "cell_type": "code",
   "execution_count": 71,
   "metadata": {},
   "outputs": [],
   "source": [
    "station_info[\"region_id\"]=station_info[\"region_id\"].fillna(0)\n",
    "station_info[\"region_id\"]=station_info[\"region_id\"].astype(\"int64\")\n",
    "station_info[\"region\"]=station_info[\"region_id\"].map({40:\"Alexandria Virginia\",41:\"Arlington Virginia\",42:\"Washington DC\",43:\"Montgomery County Maryland\",\n",
    "44:\"Montgomery Country Maryland\",48:\"Test and Operations\",104:\"Fairfax Virginia\",128:\"8D\",133:\"Prince George\\'s County Maryland\",152:\"Falls Church Virginia\"}).astype(\"category\")"
   ]
  },
  {
   "cell_type": "code",
   "execution_count": 72,
   "metadata": {},
   "outputs": [],
   "source": [
    "for i in range(len(stations11)):\n",
    "    for j in range(len(station_info)):\n",
    "        if stations11.loc[i,\"station\"]==station_info.loc[j,\"name\"]:\n",
    "            stations11.loc[i,\"lat\"]=station_info.loc[j,\"lat\"]\n",
    "            stations11.loc[i,\"long\"]=station_info.loc[j,\"lon\"]\n"
   ]
  },
  {
   "cell_type": "code",
   "execution_count": 73,
   "metadata": {},
   "outputs": [],
   "source": [
    "stations11=stations11.fillna(0)\n",
    "stations11[\"region\"]=0"
   ]
  },
  {
   "cell_type": "code",
   "execution_count": 81,
   "metadata": {},
   "outputs": [],
   "source": [
    "#We see that there are slight differences in the adresses spelling, so we consider adresses with more than 80% similarity to be the same\n",
    "for i in range(len(stations11)):\n",
    "    for j in range(len(station_info)):\n",
    "        if (SequenceMatcher(None, stations11.loc[i,\"station\"],station_info.loc[j,\"name\"])).ratio()>0.8:\n",
    "            stations11.loc[i,\"region\"]=\" \"\n",
    "            stations11.loc[i,\"region\"]=stations11.loc[i,\"region\"]+station_info.loc[j,\"region\"]"
   ]
  },
  {
   "cell_type": "code",
   "execution_count": 82,
   "metadata": {},
   "outputs": [],
   "source": [
    "#Now we find the coordinates for those adresses\n",
    "geocode=RateLimiter(geolocator.geocode, min_delay_seconds=1)\n",
    "for i in range(len(stations11)):\n",
    "    if stations11.loc[i,\"lat\"]==0 or stations11.loc[i,\"long\"]==0:\n",
    "        if stations11.loc[i,\"region\"]==0:\n",
    "            a=geocode(stations11.loc[i,\"station\"],timeout=None)    \n",
    "        else:\n",
    "            a=geocode((stations11.loc[i,\"station\"]+stations11.loc[i,\"region\"]),timeout=None)\n",
    "        try:\n",
    "            la=a.latitude\n",
    "            lo=a.longitude\n",
    "            if (la>38 and la<39.1) and (lo>-77.3 and lo<-76.6):\n",
    "                stations11.loc[i,\"lat\"]=la\n",
    "                stations11.loc[i,\"long\"]=lo\n",
    "        except AttributeError:\n",
    "            pass"
   ]
  },
  {
   "cell_type": "code",
   "execution_count": 83,
   "metadata": {},
   "outputs": [],
   "source": [
    "for i in range(len(stations11)):\n",
    "    if stations11.loc[i,\"lat\"]==0 or stations11.loc[i,\"long\"]==0:\n",
    "        if \"/\" in stations11.loc[i,\"station\"]:\n",
    "            j,x=((stations11.loc[i,\"station\"]).split(\"/\"))\n",
    "            a=geocode(x)\n",
    "        else:\n",
    "            a=geocode(stations11.loc[i,\"station\"])\n",
    "    try:\n",
    "            la=a.latitude\n",
    "            lo=a.longitude\n",
    "            if (la>38 and la<39.1) and (lo>-77.3 and lo<-76.6):\n",
    "                stations11.loc[i,\"lat\"]=la\n",
    "                stations11.loc[i,\"long\"]=lo\n",
    "    except AttributeError:\n",
    "            pass\n",
    "for i in range(len(stations11)):\n",
    "    if stations11.loc[i,\"lat\"]==0 or stations11.loc[i,\"long\"]==0:\n",
    "        a=geocode(stations11.loc[i,\"station\"])\n",
    "        try:\n",
    "            la=a.latitude\n",
    "            lo=a.longitude\n",
    "            if (la>38 and la<39.1) and (lo>-77.3 and lo<-76.6):\n",
    "                stations11.loc[i,\"lat\"]=la\n",
    "                stations11.loc[i,\"long\"]=lo\n",
    "        except AttributeError:\n",
    "            pass"
   ]
  },
  {
   "cell_type": "code",
   "execution_count": 84,
   "metadata": {},
   "outputs": [],
   "source": [
    "trips11[\"lat_start\"]=0\n",
    "trips11[\"long_start\"]=0\n",
    "trips11[\"lat_end\"]=0\n",
    "trips11[\"long_end\"]=0"
   ]
  },
  {
   "cell_type": "code",
   "execution_count": 85,
   "metadata": {},
   "outputs": [],
   "source": [
    "#Takes centuries to run, use it only during night\n",
    "# for i in range(len(trips11)):\n",
    "#     for j in range(len(stations11)):\n",
    "#         if trips11.loc[i,\"start_station\"]==stations11.loc[j,\"station\"]:\n",
    "#             trips11.loc[i,\"lat_start\"]=stations11.loc[j,\"lat\"]\n",
    "#             trips11.loc[i,\"long_start\"]=stations11.loc[j,\"long\"]\n",
    "#         if trips11.loc[i,\"end_station\"]==stations11.loc[j,\"station\"]:\n",
    "#             trips11.loc[i,\"lat_end\"]=stations11.loc[j,\"lat\"]\n",
    "#             trips11.loc[i,\"long_end\"]=stations11.loc[j,\"long\"]\n",
    "            "
   ]
  },
  {
   "cell_type": "code",
   "execution_count": 91,
   "metadata": {},
   "outputs": [],
   "source": [
    "i=stations11.loc[stations11[\"lat\"]!=0]\n",
    "j=stations11.loc[stations11[\"long\"]!=0]\n",
    "bbox=(i[\"lat\"].max(),i[\"lat\"].min(),j[\"long\"].max(),j[\"long\"].min())"
   ]
  },
  {
   "cell_type": "code",
   "execution_count": 97,
   "metadata": {},
   "outputs": [
    {
     "data": {
      "text/plain": [
       "(38.947774, 38.8425997, -76.941877, -77.087171)"
      ]
     },
     "execution_count": 97,
     "metadata": {},
     "output_type": "execute_result"
    }
   ],
   "source": [
    "38.947774, -76.941877, 38.8425997, -77.087171"
   ]
  }
 ],
 "metadata": {
  "interpreter": {
   "hash": "34ab73eb2a201c4b750598ec4bd41f14c725bb809bc0c8207569acb80dee3ff5"
  },
  "kernelspec": {
   "display_name": "Python 3.9.7 ('base')",
   "language": "python",
   "name": "python3"
  },
  "language_info": {
   "codemirror_mode": {
    "name": "ipython",
    "version": 3
   },
   "file_extension": ".py",
   "mimetype": "text/x-python",
   "name": "python",
   "nbconvert_exporter": "python",
   "pygments_lexer": "ipython3",
   "version": "3.9.7"
  },
  "orig_nbformat": 4
 },
 "nbformat": 4,
 "nbformat_minor": 2
}
